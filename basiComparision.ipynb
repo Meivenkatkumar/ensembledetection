{
 "cells": [
  {
   "cell_type": "code",
   "execution_count": 29,
   "id": "a39834f9",
   "metadata": {
    "scrolled": true
   },
   "outputs": [],
   "source": [
    "import numpy as np \n",
    "import pandas as pd \n",
    "import matplotlib.pyplot as plt\n",
    "import seaborn as sns\n",
    "\n",
    "from collections import Counter\n",
    "\n",
    "import warnings\n",
    "warnings.filterwarnings(\"ignore\")\n",
    "import os\n",
    "\n",
    "\n",
    "data = pd.read_csv(\"./data/cleveland_short.csv\")"
   ]
  },
  {
   "cell_type": "code",
   "execution_count": 30,
   "id": "e1a8bfba",
   "metadata": {
    "scrolled": true
   },
   "outputs": [
    {
     "name": "stdout",
     "output_type": "stream",
     "text": [
      "Values of age column\n",
      " [63 67 37 41 56 62 57 53 44 52 48 54 49 64 58 60 50 66 43 40 69 59 42 55\n",
      " 61 65 71 51 46 45 39 68 47 34 35 29 70 77 38 74 76]\n",
      "--------------\n",
      "\n",
      "Values of sex column\n",
      " [1 0]\n",
      "--------------\n",
      "\n",
      "Values of cp column\n",
      " [1 4 3 2]\n",
      "--------------\n",
      "\n",
      "Values of trestbps column\n",
      " [145 160 120 130 140 172 150 110 132 117 135 112 105 124 125 142 128 170\n",
      " 155 104 180 138 108 134 122 115 118 100 200  94 165 102 152 101 126 174\n",
      " 148 178 158 192 129 144 123 136 146 106 156 154]\n",
      "--------------\n",
      "\n",
      "Values of chol column\n",
      " [233 286 229 250 204 236 268 354 254 203 192 294 256 263 199 168 239 275\n",
      " 266 211 283 284 224 206 219 340 226 247 167 230 335 234 177 276 353 243\n",
      " 225 302 212 330 175 417 197 198 290 253 172 273 213 305 216 304 188 282\n",
      " 185 232 326 231 269 267 248 360 258 308 245 270 208 264 321 274 325 235\n",
      " 257 164 141 252 255 201 222 260 182 303 265 309 307 249 186 341 183 407\n",
      " 217 288 220 209 227 261 174 281 221 205 240 289 318 298 564 246 322 299\n",
      " 300 293 277 214 207 223 160 394 184 315 409 244 195 196 126 313 259 200\n",
      " 262 215 228 193 271 210 327 149 295 306 178 237 218 242 319 166 180 311\n",
      " 278]\n",
      "--------------\n",
      "\n",
      "Values of fbs column\n",
      " [1 0]\n",
      "--------------\n",
      "\n",
      "Values of restecg column\n",
      " [2 0 1]\n",
      "--------------\n",
      "\n",
      "Values of thalach column\n",
      " [150 108 129 187 172 178 160 163 147 155 148 153 142 173 162 174 168 139\n",
      " 171 144 132 158 114 151 161 179 120 112 137 157 169 165 123 128 152 140\n",
      " 188 109 125 131 170 113  99 177 141 180 111 143 182 156 115 149 145 146\n",
      " 175 186 185 159 130 190 136  97 127 154 133 126 202 103 166 164 184 124\n",
      " 122  96 138  88 105 194 195 106 167  95 192 117 121 116  71 118 181 134]\n",
      "--------------\n",
      "\n",
      "Values of exang column\n",
      " [0 1]\n",
      "--------------\n",
      "\n",
      "Values of oldpeak column\n",
      " [2.3 1.5 2.6 3.5 1.4 0.8 3.6 0.6 3.1 0.4 1.3 0.  0.5 1.6 1.  1.2 0.2 1.8\n",
      " 3.2 2.4 2.  2.5 2.2 2.8 3.  3.4 6.2 4.  5.6 2.9 0.1 2.1 1.9 4.2 0.9 1.1\n",
      " 3.8 0.7 0.3]\n",
      "--------------\n",
      "\n",
      "Values of slope column\n",
      " [3 2 1]\n",
      "--------------\n",
      "\n",
      "Values of ca column\n",
      " [ 0  3  2  1 -9]\n",
      "--------------\n",
      "\n",
      "Values of thal column\n",
      " [ 6  3  7 -9]\n",
      "--------------\n",
      "\n",
      "Values of num column\n",
      " [0 2 1 3 4]\n",
      "--------------\n",
      "\n"
     ]
    },
    {
     "data": {
      "text/html": [
       "<div>\n",
       "<style scoped>\n",
       "    .dataframe tbody tr th:only-of-type {\n",
       "        vertical-align: middle;\n",
       "    }\n",
       "\n",
       "    .dataframe tbody tr th {\n",
       "        vertical-align: top;\n",
       "    }\n",
       "\n",
       "    .dataframe thead th {\n",
       "        text-align: right;\n",
       "    }\n",
       "</style>\n",
       "<table border=\"1\" class=\"dataframe\">\n",
       "  <thead>\n",
       "    <tr style=\"text-align: right;\">\n",
       "      <th></th>\n",
       "      <th>age</th>\n",
       "      <th>sex</th>\n",
       "      <th>cp</th>\n",
       "      <th>trestbps</th>\n",
       "      <th>chol</th>\n",
       "      <th>fbs</th>\n",
       "      <th>restecg</th>\n",
       "      <th>thalach</th>\n",
       "      <th>exang</th>\n",
       "      <th>oldpeak</th>\n",
       "      <th>slope</th>\n",
       "      <th>ca</th>\n",
       "      <th>thal</th>\n",
       "      <th>num</th>\n",
       "    </tr>\n",
       "  </thead>\n",
       "  <tbody>\n",
       "    <tr>\n",
       "      <th>count</th>\n",
       "      <td>282.000000</td>\n",
       "      <td>282.000000</td>\n",
       "      <td>282.000000</td>\n",
       "      <td>282.000000</td>\n",
       "      <td>282.000000</td>\n",
       "      <td>282.000000</td>\n",
       "      <td>282.000000</td>\n",
       "      <td>282.000000</td>\n",
       "      <td>282.000000</td>\n",
       "      <td>282.000000</td>\n",
       "      <td>282.000000</td>\n",
       "      <td>282.000000</td>\n",
       "      <td>282.000000</td>\n",
       "      <td>282.000000</td>\n",
       "    </tr>\n",
       "    <tr>\n",
       "      <th>mean</th>\n",
       "      <td>54.411348</td>\n",
       "      <td>0.677305</td>\n",
       "      <td>3.163121</td>\n",
       "      <td>131.563830</td>\n",
       "      <td>249.092199</td>\n",
       "      <td>0.148936</td>\n",
       "      <td>1.014184</td>\n",
       "      <td>149.765957</td>\n",
       "      <td>0.326241</td>\n",
       "      <td>1.026950</td>\n",
       "      <td>1.585106</td>\n",
       "      <td>0.595745</td>\n",
       "      <td>4.581560</td>\n",
       "      <td>0.907801</td>\n",
       "    </tr>\n",
       "    <tr>\n",
       "      <th>std</th>\n",
       "      <td>9.053083</td>\n",
       "      <td>0.468338</td>\n",
       "      <td>0.955405</td>\n",
       "      <td>17.757496</td>\n",
       "      <td>51.217546</td>\n",
       "      <td>0.356658</td>\n",
       "      <td>0.998118</td>\n",
       "      <td>22.923869</td>\n",
       "      <td>0.469670</td>\n",
       "      <td>1.138825</td>\n",
       "      <td>0.609700</td>\n",
       "      <td>1.236910</td>\n",
       "      <td>2.248467</td>\n",
       "      <td>1.224894</td>\n",
       "    </tr>\n",
       "    <tr>\n",
       "      <th>min</th>\n",
       "      <td>29.000000</td>\n",
       "      <td>0.000000</td>\n",
       "      <td>1.000000</td>\n",
       "      <td>94.000000</td>\n",
       "      <td>126.000000</td>\n",
       "      <td>0.000000</td>\n",
       "      <td>0.000000</td>\n",
       "      <td>71.000000</td>\n",
       "      <td>0.000000</td>\n",
       "      <td>0.000000</td>\n",
       "      <td>1.000000</td>\n",
       "      <td>-9.000000</td>\n",
       "      <td>-9.000000</td>\n",
       "      <td>0.000000</td>\n",
       "    </tr>\n",
       "    <tr>\n",
       "      <th>25%</th>\n",
       "      <td>48.000000</td>\n",
       "      <td>0.000000</td>\n",
       "      <td>3.000000</td>\n",
       "      <td>120.000000</td>\n",
       "      <td>213.000000</td>\n",
       "      <td>0.000000</td>\n",
       "      <td>0.000000</td>\n",
       "      <td>133.250000</td>\n",
       "      <td>0.000000</td>\n",
       "      <td>0.000000</td>\n",
       "      <td>1.000000</td>\n",
       "      <td>0.000000</td>\n",
       "      <td>3.000000</td>\n",
       "      <td>0.000000</td>\n",
       "    </tr>\n",
       "    <tr>\n",
       "      <th>50%</th>\n",
       "      <td>55.000000</td>\n",
       "      <td>1.000000</td>\n",
       "      <td>3.000000</td>\n",
       "      <td>130.000000</td>\n",
       "      <td>244.000000</td>\n",
       "      <td>0.000000</td>\n",
       "      <td>2.000000</td>\n",
       "      <td>153.500000</td>\n",
       "      <td>0.000000</td>\n",
       "      <td>0.800000</td>\n",
       "      <td>2.000000</td>\n",
       "      <td>0.000000</td>\n",
       "      <td>3.000000</td>\n",
       "      <td>0.000000</td>\n",
       "    </tr>\n",
       "    <tr>\n",
       "      <th>75%</th>\n",
       "      <td>61.000000</td>\n",
       "      <td>1.000000</td>\n",
       "      <td>4.000000</td>\n",
       "      <td>140.000000</td>\n",
       "      <td>277.000000</td>\n",
       "      <td>0.000000</td>\n",
       "      <td>2.000000</td>\n",
       "      <td>165.750000</td>\n",
       "      <td>1.000000</td>\n",
       "      <td>1.600000</td>\n",
       "      <td>2.000000</td>\n",
       "      <td>1.000000</td>\n",
       "      <td>7.000000</td>\n",
       "      <td>2.000000</td>\n",
       "    </tr>\n",
       "    <tr>\n",
       "      <th>max</th>\n",
       "      <td>77.000000</td>\n",
       "      <td>1.000000</td>\n",
       "      <td>4.000000</td>\n",
       "      <td>200.000000</td>\n",
       "      <td>564.000000</td>\n",
       "      <td>1.000000</td>\n",
       "      <td>2.000000</td>\n",
       "      <td>202.000000</td>\n",
       "      <td>1.000000</td>\n",
       "      <td>6.200000</td>\n",
       "      <td>3.000000</td>\n",
       "      <td>3.000000</td>\n",
       "      <td>7.000000</td>\n",
       "      <td>4.000000</td>\n",
       "    </tr>\n",
       "  </tbody>\n",
       "</table>\n",
       "</div>"
      ],
      "text/plain": [
       "              age         sex          cp    trestbps        chol         fbs  \\\n",
       "count  282.000000  282.000000  282.000000  282.000000  282.000000  282.000000   \n",
       "mean    54.411348    0.677305    3.163121  131.563830  249.092199    0.148936   \n",
       "std      9.053083    0.468338    0.955405   17.757496   51.217546    0.356658   \n",
       "min     29.000000    0.000000    1.000000   94.000000  126.000000    0.000000   \n",
       "25%     48.000000    0.000000    3.000000  120.000000  213.000000    0.000000   \n",
       "50%     55.000000    1.000000    3.000000  130.000000  244.000000    0.000000   \n",
       "75%     61.000000    1.000000    4.000000  140.000000  277.000000    0.000000   \n",
       "max     77.000000    1.000000    4.000000  200.000000  564.000000    1.000000   \n",
       "\n",
       "          restecg     thalach       exang     oldpeak       slope          ca  \\\n",
       "count  282.000000  282.000000  282.000000  282.000000  282.000000  282.000000   \n",
       "mean     1.014184  149.765957    0.326241    1.026950    1.585106    0.595745   \n",
       "std      0.998118   22.923869    0.469670    1.138825    0.609700    1.236910   \n",
       "min      0.000000   71.000000    0.000000    0.000000    1.000000   -9.000000   \n",
       "25%      0.000000  133.250000    0.000000    0.000000    1.000000    0.000000   \n",
       "50%      2.000000  153.500000    0.000000    0.800000    2.000000    0.000000   \n",
       "75%      2.000000  165.750000    1.000000    1.600000    2.000000    1.000000   \n",
       "max      2.000000  202.000000    1.000000    6.200000    3.000000    3.000000   \n",
       "\n",
       "             thal         num  \n",
       "count  282.000000  282.000000  \n",
       "mean     4.581560    0.907801  \n",
       "std      2.248467    1.224894  \n",
       "min     -9.000000    0.000000  \n",
       "25%      3.000000    0.000000  \n",
       "50%      3.000000    0.000000  \n",
       "75%      7.000000    2.000000  \n",
       "max      7.000000    4.000000  "
      ]
     },
     "execution_count": 30,
     "metadata": {},
     "output_type": "execute_result"
    }
   ],
   "source": [
    "column_list = data.columns\n",
    "for i in column_list:\n",
    "    print(\"Values of\",i,\"column\\n\",data[i].unique())\n",
    "    print(\"--------------\\n\")\n",
    "    \n",
    "data.describe()"
   ]
  },
  {
   "cell_type": "code",
   "execution_count": 31,
   "id": "dccb787e",
   "metadata": {
    "scrolled": true
   },
   "outputs": [
    {
     "data": {
      "image/png": "[encoded data removed]",
      "text/plain": [
       "<Figure size 1080x216 with 5 Axes>"
      ]
     },
     "metadata": {
      "needs_background": "light"
     },
     "output_type": "display_data"
    },
    {
     "data": {
      "image/png": "[encoded data removed]",
      "text/plain": [
       "<Figure size 288x288 with 1 Axes>"
      ]
     },
     "metadata": {
      "needs_background": "light"
     },
     "output_type": "display_data"
    }
   ],
   "source": [
    "g = sns.FacetGrid(data, col = \"num\")\n",
    "g.map(sns.distplot, \"age\", bins = 25)\n",
    "plt.show()\n",
    "column_list2 = [\"sex\",\"cp\",\"fbs\",\"restecg\",\"exang\",\"slope\",\"ca\",\"thal\"]\n",
    "g = sns.factorplot(x = column_list2[0], y = \"num\", data = data, kind = \"bar\",size=4)\n",
    "g.set_ylabels(\"Heart Disase Probability\")\n",
    "g.set_xlabels(column_list2[0])\n",
    "plt.show()"
   ]
  },
  {
   "cell_type": "code",
   "execution_count": 32,
   "id": "c3643672",
   "metadata": {
    "scrolled": true
   },
   "outputs": [
    {
     "data": {
      "image/png": "[encoded data removed]",
      "text/plain": [
       "<Figure size 288x288 with 1 Axes>"
      ]
     },
     "metadata": {
      "needs_background": "light"
     },
     "output_type": "display_data"
    }
   ],
   "source": [
    "g = sns.factorplot(x = column_list2[1], y = \"num\", data = data, kind = \"bar\",size=4)\n",
    "g.set_ylabels(\"Heart Disase Probability\")\n",
    "g.set_xlabels(column_list2[1])\n",
    "plt.show()"
   ]
  },
  {
   "cell_type": "code",
   "execution_count": 33,
   "id": "a79c3fbb",
   "metadata": {
    "scrolled": true
   },
   "outputs": [
    {
     "data": {
      "text/html": [
       "<div>\n",
       "<style scoped>\n",
       "    .dataframe tbody tr th:only-of-type {\n",
       "        vertical-align: middle;\n",
       "    }\n",
       "\n",
       "    .dataframe tbody tr th {\n",
       "        vertical-align: top;\n",
       "    }\n",
       "\n",
       "    .dataframe thead th {\n",
       "        text-align: right;\n",
       "    }\n",
       "</style>\n",
       "<table border=\"1\" class=\"dataframe\">\n",
       "  <thead>\n",
       "    <tr style=\"text-align: right;\">\n",
       "      <th></th>\n",
       "      <th>age</th>\n",
       "      <th>trestbps</th>\n",
       "      <th>chol</th>\n",
       "      <th>fbs</th>\n",
       "      <th>thalach</th>\n",
       "      <th>oldpeak</th>\n",
       "      <th>ca</th>\n",
       "      <th>num</th>\n",
       "      <th>sex_0</th>\n",
       "      <th>sex_1</th>\n",
       "      <th>...</th>\n",
       "      <th>restecg_2</th>\n",
       "      <th>exang_0</th>\n",
       "      <th>exang_1</th>\n",
       "      <th>slope_1</th>\n",
       "      <th>slope_2</th>\n",
       "      <th>slope_3</th>\n",
       "      <th>thal_-9</th>\n",
       "      <th>thal_3</th>\n",
       "      <th>thal_6</th>\n",
       "      <th>thal_7</th>\n",
       "    </tr>\n",
       "  </thead>\n",
       "  <tbody>\n",
       "    <tr>\n",
       "      <th>0</th>\n",
       "      <td>63</td>\n",
       "      <td>145</td>\n",
       "      <td>233</td>\n",
       "      <td>1</td>\n",
       "      <td>150</td>\n",
       "      <td>2.3</td>\n",
       "      <td>0</td>\n",
       "      <td>0</td>\n",
       "      <td>0</td>\n",
       "      <td>1</td>\n",
       "      <td>...</td>\n",
       "      <td>1</td>\n",
       "      <td>1</td>\n",
       "      <td>0</td>\n",
       "      <td>0</td>\n",
       "      <td>0</td>\n",
       "      <td>1</td>\n",
       "      <td>0</td>\n",
       "      <td>0</td>\n",
       "      <td>1</td>\n",
       "      <td>0</td>\n",
       "    </tr>\n",
       "    <tr>\n",
       "      <th>1</th>\n",
       "      <td>67</td>\n",
       "      <td>160</td>\n",
       "      <td>286</td>\n",
       "      <td>0</td>\n",
       "      <td>108</td>\n",
       "      <td>1.5</td>\n",
       "      <td>3</td>\n",
       "      <td>2</td>\n",
       "      <td>0</td>\n",
       "      <td>1</td>\n",
       "      <td>...</td>\n",
       "      <td>1</td>\n",
       "      <td>0</td>\n",
       "      <td>1</td>\n",
       "      <td>0</td>\n",
       "      <td>1</td>\n",
       "      <td>0</td>\n",
       "      <td>0</td>\n",
       "      <td>1</td>\n",
       "      <td>0</td>\n",
       "      <td>0</td>\n",
       "    </tr>\n",
       "    <tr>\n",
       "      <th>2</th>\n",
       "      <td>67</td>\n",
       "      <td>120</td>\n",
       "      <td>229</td>\n",
       "      <td>0</td>\n",
       "      <td>129</td>\n",
       "      <td>2.6</td>\n",
       "      <td>2</td>\n",
       "      <td>1</td>\n",
       "      <td>0</td>\n",
       "      <td>1</td>\n",
       "      <td>...</td>\n",
       "      <td>1</td>\n",
       "      <td>0</td>\n",
       "      <td>1</td>\n",
       "      <td>0</td>\n",
       "      <td>1</td>\n",
       "      <td>0</td>\n",
       "      <td>0</td>\n",
       "      <td>0</td>\n",
       "      <td>0</td>\n",
       "      <td>1</td>\n",
       "    </tr>\n",
       "    <tr>\n",
       "      <th>3</th>\n",
       "      <td>37</td>\n",
       "      <td>130</td>\n",
       "      <td>250</td>\n",
       "      <td>0</td>\n",
       "      <td>187</td>\n",
       "      <td>3.5</td>\n",
       "      <td>0</td>\n",
       "      <td>0</td>\n",
       "      <td>0</td>\n",
       "      <td>1</td>\n",
       "      <td>...</td>\n",
       "      <td>0</td>\n",
       "      <td>1</td>\n",
       "      <td>0</td>\n",
       "      <td>0</td>\n",
       "      <td>0</td>\n",
       "      <td>1</td>\n",
       "      <td>0</td>\n",
       "      <td>1</td>\n",
       "      <td>0</td>\n",
       "      <td>0</td>\n",
       "    </tr>\n",
       "    <tr>\n",
       "      <th>4</th>\n",
       "      <td>41</td>\n",
       "      <td>130</td>\n",
       "      <td>204</td>\n",
       "      <td>0</td>\n",
       "      <td>172</td>\n",
       "      <td>1.4</td>\n",
       "      <td>0</td>\n",
       "      <td>0</td>\n",
       "      <td>1</td>\n",
       "      <td>0</td>\n",
       "      <td>...</td>\n",
       "      <td>1</td>\n",
       "      <td>1</td>\n",
       "      <td>0</td>\n",
       "      <td>1</td>\n",
       "      <td>0</td>\n",
       "      <td>0</td>\n",
       "      <td>0</td>\n",
       "      <td>1</td>\n",
       "      <td>0</td>\n",
       "      <td>0</td>\n",
       "    </tr>\n",
       "  </tbody>\n",
       "</table>\n",
       "<p>5 rows × 26 columns</p>\n",
       "</div>"
      ],
      "text/plain": [
       "   age  trestbps  chol  fbs  thalach  oldpeak  ca  num  sex_0  sex_1  ...  \\\n",
       "0   63       145   233    1      150      2.3   0    0      0      1  ...   \n",
       "1   67       160   286    0      108      1.5   3    2      0      1  ...   \n",
       "2   67       120   229    0      129      2.6   2    1      0      1  ...   \n",
       "3   37       130   250    0      187      3.5   0    0      0      1  ...   \n",
       "4   41       130   204    0      172      1.4   0    0      1      0  ...   \n",
       "\n",
       "   restecg_2  exang_0  exang_1  slope_1  slope_2  slope_3  thal_-9  thal_3  \\\n",
       "0          1        1        0        0        0        1        0       0   \n",
       "1          1        0        1        0        1        0        0       1   \n",
       "2          1        0        1        0        1        0        0       0   \n",
       "3          0        1        0        0        0        1        0       1   \n",
       "4          1        1        0        1        0        0        0       1   \n",
       "\n",
       "   thal_6  thal_7  \n",
       "0       1       0  \n",
       "1       0       0  \n",
       "2       0       1  \n",
       "3       0       0  \n",
       "4       0       0  \n",
       "\n",
       "[5 rows x 26 columns]"
      ]
     },
     "execution_count": 33,
     "metadata": {},
     "output_type": "execute_result"
    }
   ],
   "source": [
    "dummy_list = [\"sex\",\"cp\",\"restecg\",\"exang\",\"slope\",\"thal\"]\n",
    "data = pd.get_dummies(data,columns=dummy_list)\n",
    "data.head()"
   ]
  },
  {
   "cell_type": "code",
   "execution_count": 34,
   "id": "e78596f1",
   "metadata": {
    "scrolled": true
   },
   "outputs": [],
   "source": [
    "from sklearn.naive_bayes import GaussianNB\n",
    "from sklearn.model_selection import train_test_split, StratifiedKFold, GridSearchCV\n",
    "from sklearn.linear_model import LogisticRegression\n",
    "from sklearn.svm import SVC\n",
    "from sklearn.ensemble import RandomForestClassifier, VotingClassifier\n",
    "from sklearn.neighbors import KNeighborsClassifier\n",
    "from sklearn.tree import DecisionTreeClassifier\n",
    "from sklearn.metrics import accuracy_score, confusion_matrix"
   ]
  },
  {
   "cell_type": "code",
   "execution_count": 35,
   "id": "7121076b",
   "metadata": {
    "scrolled": true
   },
   "outputs": [],
   "source": [
    "y = data.num.values\n",
    "x_data = data.drop([\"num\"],axis=1)\n",
    "x = (x_data - np.min(x_data)) / (np.max(x_data) - np.min(x_data))"
   ]
  },
  {
   "cell_type": "code",
   "execution_count": 36,
   "id": "acf8d718",
   "metadata": {
    "scrolled": true
   },
   "outputs": [
    {
     "name": "stdout",
     "output_type": "stream",
     "text": [
      "x_train 197\n",
      "x_test 85\n",
      "y_train 197\n",
      "y_test 85\n"
     ]
    }
   ],
   "source": [
    "x_train, x_test, y_train, y_test = train_test_split(x,y, test_size = 0.3, random_state = 42)\n",
    "print(\"x_train\",len(x_train))\n",
    "print(\"x_test\",len(x_test))\n",
    "print(\"y_train\",len(y_train))\n",
    "print(\"y_test\",len(y_test))"
   ]
  },
  {
   "cell_type": "code",
   "execution_count": 37,
   "id": "0c47a205",
   "metadata": {
    "scrolled": true
   },
   "outputs": [],
   "source": [
    "random_state = 42\n",
    "classifier = [KNeighborsClassifier(),\n",
    "              SVC(random_state = random_state,probability=True),\n",
    "              DecisionTreeClassifier(random_state = random_state),\n",
    "             RandomForestClassifier(random_state = random_state),\n",
    "             LogisticRegression(random_state = random_state),\n",
    "             ]\n",
    "\n",
    "knn_param_grid = {\"n_neighbors\": np.linspace(1,19,10, dtype = int).tolist(),\n",
    "                 \"weights\": [\"uniform\",\"distance\"],\n",
    "                 \"metric\":[\"euclidean\",\"manhattan\"]}\n",
    "\n",
    "svm_param_grid = {\"kernel\" : [\"rbf\"],\n",
    "                 \"gamma\": [0.001, 0.01, 0.1, 1],\n",
    "                 \"C\": [1,10,50,100,200,300,1000]}\n",
    "\n",
    "dt_param_grid = {\"min_samples_split\" : range(10,500,20),\n",
    "                \"max_depth\": range(1,20,2)}\n",
    "\n",
    "rf_param_grid = {\"max_features\": [1,3,10],\n",
    "                \"min_samples_split\":[2,3,10],\n",
    "                \"min_samples_leaf\":[1,3,10],\n",
    "                \"bootstrap\":[False],\n",
    "                \"n_estimators\":[100,300],\n",
    "                \"criterion\":[\"gini\"]}\n",
    "\n",
    "logreg_param_grid = {\"C\":np.logspace(-3,3,7),\n",
    "                    \"penalty\": [\"l1\",\"l2\"]}\n",
    "\n",
    "\n",
    "classifier_param = [knn_param_grid,\n",
    "                   svm_param_grid,\n",
    "                    dt_param_grid,\n",
    "                   rf_param_grid,\n",
    "                   logreg_param_grid,\n",
    "                   knn_param_grid]"
   ]
  },
  {
   "cell_type": "code",
   "execution_count": 38,
   "id": "919075f7",
   "metadata": {
    "scrolled": true
   },
   "outputs": [
    {
     "name": "stdout",
     "output_type": "stream",
     "text": [
      "Fitting 10 folds for each of 40 candidates, totalling 400 fits\n",
      "63.973684210526315\n",
      "Fitting 10 folds for each of 28 candidates, totalling 280 fits\n",
      "63.447368421052616\n",
      "Fitting 10 folds for each of 250 candidates, totalling 2500 fits\n",
      "60.39473684210528\n",
      "Fitting 10 folds for each of 54 candidates, totalling 540 fits\n",
      "63.52631578947368\n",
      "Fitting 10 folds for each of 14 candidates, totalling 140 fits\n",
      "59.89473684210527\n"
     ]
    }
   ],
   "source": [
    "cv_result = []\n",
    "best_estimators = []\n",
    "for i in range(len(classifier)):\n",
    "    clf = GridSearchCV(classifier[i], param_grid=classifier_param[i], cv = StratifiedKFold(n_splits = 10), scoring = \"accuracy\", n_jobs = -1,verbose = 1)\n",
    "    clf.fit(x_train,y_train)\n",
    "    cv_result.append(clf.best_score_ * 100)\n",
    "    best_estimators.append(clf.best_estimator_)\n",
    "    print(cv_result[i])"
   ]
  },
  {
   "cell_type": "code",
   "execution_count": 11,
   "id": "6a9cacea",
   "metadata": {
    "scrolled": true
   },
   "outputs": [
    {
     "data": {
      "text/plain": [
       "Text(0.5, 1.0, 'Cross Validation Scores')"
      ]
     },
     "execution_count": 11,
     "metadata": {},
     "output_type": "execute_result"
    },
    {
     "data": {
      "image/png": "[encoded data removed]",
      "text/plain": [
       "<Figure size 432x288 with 1 Axes>"
      ]
     },
     "metadata": {
      "needs_background": "light"
     },
     "output_type": "display_data"
    }
   ],
   "source": [
    "cv_results = pd.DataFrame({\"Cross Validation Means\":cv_result, \"ML Models\":[ \"KNeighborsClassifier\", \"SVM\",\"Decision Tree Classifier\",\n",
    "             \"Random Forest Classifier\",\"LogisticRegression\",\n",
    "            ]})\n",
    "\n",
    "g = sns.barplot(\"Cross Validation Means\", \"ML Models\", data = cv_results)\n",
    "g.set_xlabel(\"Mean Accuracy\")\n",
    "g.set_title(\"Cross Validation Scores\")"
   ]
  },
  {
   "cell_type": "code",
   "execution_count": 12,
   "id": "95215347",
   "metadata": {
    "scrolled": true
   },
   "outputs": [
    {
     "name": "stdout",
     "output_type": "stream",
     "text": [
      "[KNeighborsClassifier(metric='manhattan', n_neighbors=15, weights='distance'), SVC(C=1, gamma=1, probability=True, random_state=42), DecisionTreeClassifier(max_depth=3, min_samples_split=30, random_state=42), RandomForestClassifier(bootstrap=False, max_features=10, min_samples_split=10,\n",
      "                       n_estimators=300, random_state=42), LogisticRegression(C=0.1, random_state=42)]\n"
     ]
    }
   ],
   "source": [
    "print(best_estimators)\n",
    "knn9 = KNeighborsClassifier(n_neighbors = 9)\n",
    "knn9.fit(x_train, y_train)\n",
    "y_head_knn = knn9.predict(x_test)\n",
    "\n",
    "svm = SVC(random_state = 1)\n",
    "svm.fit(x_train,y_train)\n",
    "y_head_svm = svm.predict(x_test)\n",
    "\n",
    "rf = RandomForestClassifier(n_estimators = 500, random_state = 1)\n",
    "rf.fit(x_train,y_train)\n",
    "y_head_rf = rf.predict(x_test)"
   ]
  },
  {
   "cell_type": "code",
   "execution_count": 13,
   "id": "95b8e1d0",
   "metadata": {
    "scrolled": true
   },
   "outputs": [
    {
     "data": {
      "image/png": "[encoded data removed]",
      "text/plain": [
       "<Figure size 864x432 with 3 Axes>"
      ]
     },
     "metadata": {
      "needs_background": "light"
     },
     "output_type": "display_data"
    }
   ],
   "source": [
    "cm_knn = confusion_matrix(y_test,y_head_knn)\n",
    "cm_svm = confusion_matrix(y_test,y_head_svm)\n",
    "cm_rf = confusion_matrix(y_test,y_head_rf)\n",
    "\n",
    "plt.figure(figsize=(12,6))\n",
    "plt.suptitle(\"Confusion Matrices\",fontsize=24, color=\"red\")\n",
    "plt.subplots_adjust(wspace = 0.4, hspace= 0.4)\n",
    "\n",
    "plt.subplot(1,3,1)\n",
    "plt.title(\"K Nearest Neighbors Confusion Matrix\",fontsize=10,color=\"blue\")\n",
    "sns.heatmap(cm_knn,annot=True, cmap=\"YlGnBu\",fmt=\"d\",cbar=False, annot_kws={\"size\": 18})\n",
    "\n",
    "plt.subplot(1,3,2)\n",
    "plt.title(\"Support Vector Machine Confusion Matrix\",fontsize=10,color=\"blue\")\n",
    "sns.heatmap(cm_svm,annot=True, cmap=\"YlGnBu\",fmt=\"d\",cbar=False, annot_kws={\"size\": 18})\n",
    "\n",
    "plt.subplot(1,3,3)\n",
    "plt.title(\"Random Forest Confusion Matrix\",fontsize=10,color=\"blue\")\n",
    "sns.heatmap(cm_svm,annot=True, cmap=\"YlGnBu\",fmt=\"d\",cbar=False, annot_kws={\"size\": 18})\n",
    "\n",
    "plt.show()"
   ]
  },
  {
   "cell_type": "code",
   "execution_count": 14,
   "id": "fd7abff0",
   "metadata": {
    "scrolled": true
   },
   "outputs": [
    {
     "name": "stdout",
     "output_type": "stream",
     "text": [
      "Accuracy of Ensemble: 57.65\n"
     ]
    }
   ],
   "source": [
    "votingC = VotingClassifier(estimators = [(\"knn\",best_estimators[0]),\n",
    "                                        (\"svm\",best_estimators[1]),\n",
    "                                        (\"rf\",best_estimators[3])],\n",
    "                                        voting = \"soft\", n_jobs = -1)\n",
    "votingC = votingC.fit(x_train, y_train)\n",
    "print(\"Accuracy of Ensemble: {:.2f}\".format(accuracy_score(votingC.predict(x_test),y_test)*100))"
   ]
  },
  {
   "cell_type": "code",
   "execution_count": 15,
   "id": "656df29e",
   "metadata": {
    "scrolled": true
   },
   "outputs": [
    {
     "name": "stdout",
     "output_type": "stream",
     "text": [
      "Training Accuracy: 67.51%\n",
      "Testing Accuracy: 52.94%\n"
     ]
    }
   ],
   "source": [
    "best_accuracies_each_classes = {}\n",
    "lr = LogisticRegression()\n",
    "lr.fit(x_train, y_train)\n",
    "accuracy_lr_train = round(lr.score(x_train, y_train)*100,2) \n",
    "accuracy_lr_test = round(lr.score(x_test,y_test)*100,2)\n",
    "best_accuracies_each_classes[\"Logistic Regression\"] = lr.score(x_test,y_test)*100\n",
    "print(\"Training Accuracy: {}%\".format(accuracy_lr_train))\n",
    "print(\"Testing Accuracy: {}%\".format(accuracy_lr_test))"
   ]
  },
  {
   "cell_type": "code",
   "execution_count": 16,
   "id": "a491fa99",
   "metadata": {
    "scrolled": true
   },
   "outputs": [
    {
     "name": "stdout",
     "output_type": "stream",
     "text": [
      "Best Test KNN Score accuracy is: 60.00\n"
     ]
    },
    {
     "data": {
      "image/png": "[encoded data removed]",
      "text/plain": [
       "<Figure size 1080x360 with 1 Axes>"
      ]
     },
     "metadata": {
      "needs_background": "light"
     },
     "output_type": "display_data"
    }
   ],
   "source": [
    "score_list_test = []\n",
    "for i in range(1,21):\n",
    "    knn = KNeighborsClassifier(n_neighbors = i)\n",
    "    knn.fit(x_train,y_train)\n",
    "    score_list_test.append(knn.score(x_test,y_test))\n",
    "    \n",
    "best_accuracies_each_classes[\"KNN\"] = max(score_list_test)*100\n",
    "print(\"Best Test KNN Score accuracy is: {:.2f}\".format(max(score_list_test)*100))\n",
    "\n",
    "plt.figure(figsize=(15,5))\n",
    "plt.plot(range(1,21),score_list_test)\n",
    "plt.xlabel(\"K Values\")\n",
    "plt.ylabel(\"Accuracy\")\n",
    "plt.show()"
   ]
  },
  {
   "cell_type": "code",
   "execution_count": 17,
   "id": "4afefbc1",
   "metadata": {
    "scrolled": true
   },
   "outputs": [
    {
     "name": "stdout",
     "output_type": "stream",
     "text": [
      "Accuracy of SVM Algo: 54.12\n"
     ]
    }
   ],
   "source": [
    "svm = SVC(random_state = 1)\n",
    "svm.fit(x_train,y_train)\n",
    "\n",
    "best_accuracies_each_classes[\"SVM\"] = svm.score(x_test,y_test)*100\n",
    "print(\"Accuracy of SVM Algo: {:.2f}\".format(svm.score(x_test,y_test)*100))"
   ]
  },
  {
   "cell_type": "code",
   "execution_count": 18,
   "id": "c72cb6b0",
   "metadata": {
    "scrolled": true
   },
   "outputs": [
    {
     "name": "stdout",
     "output_type": "stream",
     "text": [
      "Accuracy of Naive Bayes: 9.41\n"
     ]
    }
   ],
   "source": [
    "nb = GaussianNB()\n",
    "nb.fit(x_train,y_train)\n",
    "\n",
    "best_accuracies_each_classes[\"Naive Bayes\"] = nb.score(x_test,y_test)*100\n",
    "print(\"Accuracy of Naive Bayes: {:.2f}\".format(nb.score(x_test,y_test)*100))"
   ]
  },
  {
   "cell_type": "code",
   "execution_count": 19,
   "id": "4e97e642",
   "metadata": {
    "scrolled": true
   },
   "outputs": [
    {
     "name": "stdout",
     "output_type": "stream",
     "text": [
      "Accuracy of Decision Tree: 51.76\n"
     ]
    }
   ],
   "source": [
    "dt = DecisionTreeClassifier()\n",
    "dt.fit(x_train,y_train)\n",
    "\n",
    "best_accuracies_each_classes[\"Decision Tree\"] = dt.score(x_test,y_test)*100\n",
    "print(\"Accuracy of Decision Tree: {:.2f}\".format(dt.score(x_test,y_test)*100))"
   ]
  },
  {
   "cell_type": "code",
   "execution_count": 20,
   "id": "319e412b",
   "metadata": {
    "scrolled": true
   },
   "outputs": [
    {
     "name": "stdout",
     "output_type": "stream",
     "text": [
      "Accuracy of  Random Forest is: 58.82\n"
     ]
    }
   ],
   "source": [
    "rf = RandomForestClassifier(n_estimators = 500, random_state = 1)\n",
    "rf.fit(x_train,y_train)\n",
    "\n",
    "best_accuracies_each_classes[\"Random Forest\"] = rf.score(x_test,y_test)*100\n",
    "print(\"Accuracy of  Random Forest is: {:.2f}\".format(rf.score(x_test,y_test)*100))"
   ]
  },
  {
   "cell_type": "code",
   "execution_count": 21,
   "id": "e2c1e188",
   "metadata": {
    "scrolled": true
   },
   "outputs": [
    {
     "data": {
      "image/png": "[encoded data removed]",
      "text/plain": [
       "<Figure size 576x360 with 1 Axes>"
      ]
     },
     "metadata": {
      "needs_background": "light"
     },
     "output_type": "display_data"
    }
   ],
   "source": [
    "plt.figure(figsize=(8,5))\n",
    "sns.barplot( y=list(best_accuracies_each_classes.keys()), x=list(best_accuracies_each_classes.values()))\n",
    "plt.xlabel(\"Accuracy\")\n",
    "plt.ylabel(\"Classification Methods\")\n",
    "plt.show()"
   ]
  },
  {
   "cell_type": "code",
   "execution_count": 22,
   "id": "60a947d4",
   "metadata": {
    "scrolled": true
   },
   "outputs": [
    {
     "data": {
      "image/png": "[encoded data removed]",
      "text/plain": [
       "<Figure size 1296x432 with 2 Axes>"
      ]
     },
     "metadata": {
      "needs_background": "light"
     },
     "output_type": "display_data"
    }
   ],
   "source": [
    "\n",
    "\n",
    "cv_results = pd.DataFrame({\"Cross Validation Means\":cv_result, \"ML Models\":[ \"KNeighborsClassifier\", \"SVM\",\"Decision Tree Classifier\",\n",
    "             \"Random Forest Classifier\",\"LogisticRegression\",\n",
    "            ]})\n",
    "\n",
    "plt.figure(figsize=(18,6))\n",
    "plt.suptitle(\"Comparing Models\",fontsize=24, color=\"red\")\n",
    "plt.subplots_adjust(wspace = 0.8, hspace= 0.4)\n",
    "\n",
    "plt.subplot(1,2,1)\n",
    "plt.title(\"With Parameter Grid\",fontsize=10,color=\"blue\")\n",
    "sns.barplot(\"Cross Validation Means\", \"ML Models\", data = cv_results)\n",
    "plt.xlim(0, 100)\n",
    "\n",
    "plt.subplot(1,2,2)\n",
    "plt.title(\"Without Parameter Grid\",fontsize=10,color=\"blue\")\n",
    "sns.barplot( y=['KNeighborsClassifier',\n",
    "                 'SVM',\n",
    "                 'Decision Tree Classifier',\n",
    "                 'Random Forest Classifier',\n",
    "                 'LogisticRegression'] , x=[best_accuracies_each_classes['KNN'], best_accuracies_each_classes['SVM'], best_accuracies_each_classes['Decision Tree'], best_accuracies_each_classes['Random Forest'], best_accuracies_each_classes['Logistic Regression']])\n",
    "plt.xlim(0, 100)\n",
    "plt.xlabel(\"Accuracy\")\n",
    "plt.ylabel(\"Classification Methods\")\n",
    "plt.show()"
   ]
  },
  {
   "cell_type": "code",
   "execution_count": 23,
   "id": "51ba5e0e",
   "metadata": {
    "scrolled": true
   },
   "outputs": [],
   "source": [
    "bt_df = pd.read_csv(\"./data/cleveland_short.csv\")\n",
    "\n",
    "x1 = bt_df[bt_df.columns.drop('num')]\n",
    "y1 = bt_df['num']\n",
    "\n",
    "xtrain1, xtest1, ytrain1, ytest1 = train_test_split(x1, y1, train_size=0.6, test_size=0.4)\n",
    "xtrain1, xcv1, ytrain1, ycv1 = train_test_split(xtrain1, ytrain1, train_size=0.75, test_size=0.25)\n"
   ]
  },
  {
   "cell_type": "code",
   "execution_count": 24,
   "id": "8dfb6a91",
   "metadata": {
    "scrolled": true
   },
   "outputs": [
    {
     "name": "stdout",
     "output_type": "stream",
     "text": [
      "              precision    recall  f1-score   support\n",
      "\n",
      "           0       0.64      0.86      0.73        21\n",
      "           1       0.50      0.33      0.40        12\n",
      "           2       0.00      0.00      0.00         4\n",
      "           3       0.50      0.20      0.29         5\n",
      "           4       0.00      0.00      0.00         1\n",
      "\n",
      "    accuracy                           0.53        43\n",
      "   macro avg       0.33      0.28      0.28        43\n",
      "weighted avg       0.51      0.53      0.50        43\n",
      "\n"
     ]
    },
    {
     "data": {
      "text/plain": [
       "array([0.73076923, 0.52      , 0.64      , 0.6       , 0.56      ])"
      ]
     },
     "execution_count": 24,
     "metadata": {},
     "output_type": "execute_result"
    },
    {
     "data": {
      "image/png": "[encoded data removed]",
      "text/plain": [
       "<Figure size 432x288 with 2 Axes>"
      ]
     },
     "metadata": {
      "needs_background": "light"
     },
     "output_type": "display_data"
    }
   ],
   "source": [
    "# Linear kernel\n",
    "from sklearn.svm import SVC\n",
    "from sklearn.metrics import confusion_matrix, classification_report\n",
    "from sklearn.model_selection import cross_val_score, GridSearchCV\n",
    "import seaborn as sns\n",
    "\n",
    "\n",
    "LsvmClassifier = SVC(kernel='linear', random_state=0)\n",
    "LsvmClassifier.fit(xtrain1, ytrain1)\n",
    "yprediction = LsvmClassifier.predict(xcv1)\n",
    "cm = confusion_matrix(ycv1, yprediction)\n",
    "sns.heatmap(cm, annot=True)\n",
    "print(classification_report(ycv1, yprediction))\n",
    "cross_val_score(LsvmClassifier, xtrain1, ytrain1, cv=5)"
   ]
  },
  {
   "cell_type": "code",
   "execution_count": 25,
   "id": "62344c78",
   "metadata": {
    "scrolled": true
   },
   "outputs": [
    {
     "name": "stdout",
     "output_type": "stream",
     "text": [
      "              precision    recall  f1-score   support\n",
      "\n",
      "           0       0.49      1.00      0.66        21\n",
      "           1       0.00      0.00      0.00        12\n",
      "           2       0.00      0.00      0.00         4\n",
      "           3       0.00      0.00      0.00         5\n",
      "           4       0.00      0.00      0.00         1\n",
      "\n",
      "    accuracy                           0.49        43\n",
      "   macro avg       0.10      0.20      0.13        43\n",
      "weighted avg       0.24      0.49      0.32        43\n",
      "\n"
     ]
    },
    {
     "data": {
      "text/plain": [
       "array([0.53846154, 0.56      , 0.52      , 0.52      , 0.52      ])"
      ]
     },
     "execution_count": 25,
     "metadata": {},
     "output_type": "execute_result"
    },
    {
     "data": {
      "image/png": "[encoded data removed]",
      "text/plain": [
       "<Figure size 432x288 with 2 Axes>"
      ]
     },
     "metadata": {
      "needs_background": "light"
     },
     "output_type": "display_data"
    }
   ],
   "source": [
    "# Polynomial kernel\n",
    "\n",
    "PsvmClassifier = SVC(kernel='poly', random_state=0)\n",
    "PsvmClassifier.fit(xtrain1, ytrain1)\n",
    "yprediction = PsvmClassifier.predict(xcv1)\n",
    "cm = confusion_matrix(ycv1, yprediction)\n",
    "sns.heatmap(cm, annot=True)\n",
    "print(classification_report(ycv1, yprediction))\n",
    "cross_val_score(PsvmClassifier, xtrain1, ytrain1, cv=5)"
   ]
  },
  {
   "cell_type": "code",
   "execution_count": 26,
   "id": "0febbc8a",
   "metadata": {
    "scrolled": true
   },
   "outputs": [
    {
     "name": "stdout",
     "output_type": "stream",
     "text": [
      "              precision    recall  f1-score   support\n",
      "\n",
      "           0       0.49      1.00      0.66        21\n",
      "           1       0.00      0.00      0.00        12\n",
      "           2       0.00      0.00      0.00         4\n",
      "           3       0.00      0.00      0.00         5\n",
      "           4       0.00      0.00      0.00         1\n",
      "\n",
      "    accuracy                           0.49        43\n",
      "   macro avg       0.10      0.20      0.13        43\n",
      "weighted avg       0.24      0.49      0.32        43\n",
      "\n"
     ]
    },
    {
     "data": {
      "text/plain": [
       "array([0.53846154, 0.56      , 0.52      , 0.52      , 0.52      ])"
      ]
     },
     "execution_count": 26,
     "metadata": {},
     "output_type": "execute_result"
    },
    {
     "data": {
      "image/png": "[encoded data removed]",
      "text/plain": [
       "<Figure size 432x288 with 2 Axes>"
      ]
     },
     "metadata": {
      "needs_background": "light"
     },
     "output_type": "display_data"
    }
   ],
   "source": [
    "# RBF kernel\n",
    "\n",
    "RsvmClassifier = SVC(kernel='rbf', random_state=0)\n",
    "RsvmClassifier.fit(xtrain1, ytrain1)\n",
    "yprediction = RsvmClassifier.predict(xcv1)\n",
    "cm = confusion_matrix(ycv1, yprediction)\n",
    "sns.heatmap(cm, annot=True)\n",
    "print(classification_report(ycv1, yprediction))\n",
    "cross_val_score(RsvmClassifier, xtrain1, ytrain1, cv=5)"
   ]
  },
  {
   "cell_type": "code",
   "execution_count": 43,
   "id": "bfb278fd",
   "metadata": {},
   "outputs": [
    {
     "name": "stdout",
     "output_type": "stream",
     "text": [
      "# Tuning hyper-parameters for precision\n",
      "Best parameters set found on development set:\n",
      "\n",
      "{'C': 1, 'gamma': 0.001, 'kernel': 'poly', 'max_iter': 1000}\n",
      "\n",
      "Grid scores on development set:\n",
      "\n",
      "0.259 (+/-0.123) for {'C': 1, 'kernel': 'linear', 'max_iter': 1000}\n",
      "0.259 (+/-0.130) for {'C': 10, 'kernel': 'linear', 'max_iter': 1000}\n",
      "0.259 (+/-0.130) for {'C': 100, 'kernel': 'linear', 'max_iter': 1000}\n",
      "0.259 (+/-0.130) for {'C': 1000, 'kernel': 'linear', 'max_iter': 1000}\n",
      "0.307 (+/-0.257) for {'C': 1, 'gamma': 0.001, 'kernel': 'poly', 'max_iter': 1000}\n",
      "0.306 (+/-0.140) for {'C': 1, 'gamma': 0.0001, 'kernel': 'poly', 'max_iter': 1000}\n",
      "0.307 (+/-0.257) for {'C': 10, 'gamma': 0.001, 'kernel': 'poly', 'max_iter': 1000}\n",
      "0.299 (+/-0.290) for {'C': 10, 'gamma': 0.0001, 'kernel': 'poly', 'max_iter': 1000}\n",
      "0.307 (+/-0.257) for {'C': 100, 'gamma': 0.001, 'kernel': 'poly', 'max_iter': 1000}\n",
      "0.257 (+/-0.107) for {'C': 100, 'gamma': 0.0001, 'kernel': 'poly', 'max_iter': 1000}\n",
      "0.307 (+/-0.257) for {'C': 1000, 'gamma': 0.001, 'kernel': 'poly', 'max_iter': 1000}\n",
      "0.257 (+/-0.107) for {'C': 1000, 'gamma': 0.0001, 'kernel': 'poly', 'max_iter': 1000}\n",
      "0.116 (+/-0.011) for {'C': 1, 'gamma': 0.001, 'kernel': 'rbf', 'max_iter': 1000}\n",
      "0.106 (+/-0.006) for {'C': 1, 'gamma': 0.0001, 'kernel': 'rbf', 'max_iter': 1000}\n",
      "0.200 (+/-0.138) for {'C': 10, 'gamma': 0.001, 'kernel': 'rbf', 'max_iter': 1000}\n",
      "0.218 (+/-0.213) for {'C': 10, 'gamma': 0.0001, 'kernel': 'rbf', 'max_iter': 1000}\n",
      "0.250 (+/-0.184) for {'C': 100, 'gamma': 0.001, 'kernel': 'rbf', 'max_iter': 1000}\n",
      "0.197 (+/-0.107) for {'C': 100, 'gamma': 0.0001, 'kernel': 'rbf', 'max_iter': 1000}\n",
      "0.250 (+/-0.184) for {'C': 1000, 'gamma': 0.001, 'kernel': 'rbf', 'max_iter': 1000}\n",
      "0.302 (+/-0.314) for {'C': 1000, 'gamma': 0.0001, 'kernel': 'rbf', 'max_iter': 1000}\n",
      "\n",
      "Detailed classification report:\n",
      "\n",
      "The model is trained on the full development set.\n",
      "The scores are computed on the full evaluation set.\n",
      "\n",
      "              precision    recall  f1-score   support\n",
      "\n",
      "           0       0.79      0.80      0.79        69\n",
      "           1       0.16      0.29      0.21        14\n",
      "           2       0.33      0.23      0.27        13\n",
      "           3       0.33      0.15      0.21        13\n",
      "           4       0.00      0.00      0.00         4\n",
      "\n",
      "    accuracy                           0.57       113\n",
      "   macro avg       0.32      0.29      0.30       113\n",
      "weighted avg       0.58      0.57      0.56       113\n",
      "\n",
      "\n",
      "# Tuning hyper-parameters for recall\n",
      "Best parameters set found on development set:\n",
      "\n",
      "{'C': 1, 'gamma': 0.001, 'kernel': 'poly', 'max_iter': 1000}\n",
      "\n",
      "Grid scores on development set:\n",
      "\n",
      "0.275 (+/-0.192) for {'C': 1, 'kernel': 'linear', 'max_iter': 1000}\n",
      "0.275 (+/-0.181) for {'C': 10, 'kernel': 'linear', 'max_iter': 1000}\n",
      "0.275 (+/-0.181) for {'C': 100, 'kernel': 'linear', 'max_iter': 1000}\n",
      "0.275 (+/-0.181) for {'C': 1000, 'kernel': 'linear', 'max_iter': 1000}\n",
      "0.326 (+/-0.248) for {'C': 1, 'gamma': 0.001, 'kernel': 'poly', 'max_iter': 1000}\n",
      "0.306 (+/-0.068) for {'C': 1, 'gamma': 0.0001, 'kernel': 'poly', 'max_iter': 1000}\n",
      "0.326 (+/-0.248) for {'C': 10, 'gamma': 0.001, 'kernel': 'poly', 'max_iter': 1000}\n",
      "0.284 (+/-0.278) for {'C': 10, 'gamma': 0.0001, 'kernel': 'poly', 'max_iter': 1000}\n",
      "0.326 (+/-0.248) for {'C': 100, 'gamma': 0.001, 'kernel': 'poly', 'max_iter': 1000}\n",
      "0.269 (+/-0.100) for {'C': 100, 'gamma': 0.0001, 'kernel': 'poly', 'max_iter': 1000}\n",
      "0.326 (+/-0.248) for {'C': 1000, 'gamma': 0.001, 'kernel': 'poly', 'max_iter': 1000}\n",
      "0.269 (+/-0.100) for {'C': 1000, 'gamma': 0.0001, 'kernel': 'poly', 'max_iter': 1000}\n",
      "0.200 (+/-0.000) for {'C': 1, 'gamma': 0.001, 'kernel': 'rbf', 'max_iter': 1000}\n",
      "0.200 (+/-0.000) for {'C': 1, 'gamma': 0.0001, 'kernel': 'rbf', 'max_iter': 1000}\n",
      "0.248 (+/-0.144) for {'C': 10, 'gamma': 0.001, 'kernel': 'rbf', 'max_iter': 1000}\n",
      "0.251 (+/-0.134) for {'C': 10, 'gamma': 0.0001, 'kernel': 'rbf', 'max_iter': 1000}\n",
      "0.258 (+/-0.159) for {'C': 100, 'gamma': 0.001, 'kernel': 'rbf', 'max_iter': 1000}\n",
      "0.234 (+/-0.094) for {'C': 100, 'gamma': 0.0001, 'kernel': 'rbf', 'max_iter': 1000}\n",
      "0.258 (+/-0.159) for {'C': 1000, 'gamma': 0.001, 'kernel': 'rbf', 'max_iter': 1000}\n",
      "0.262 (+/-0.149) for {'C': 1000, 'gamma': 0.0001, 'kernel': 'rbf', 'max_iter': 1000}\n",
      "\n",
      "Detailed classification report:\n",
      "\n",
      "The model is trained on the full development set.\n",
      "The scores are computed on the full evaluation set.\n",
      "\n",
      "              precision    recall  f1-score   support\n",
      "\n",
      "           0       0.79      0.80      0.79        69\n",
      "           1       0.16      0.29      0.21        14\n",
      "           2       0.33      0.23      0.27        13\n",
      "           3       0.33      0.15      0.21        13\n",
      "           4       0.00      0.00      0.00         4\n",
      "\n",
      "    accuracy                           0.57       113\n",
      "   macro avg       0.32      0.29      0.30       113\n",
      "weighted avg       0.58      0.57      0.56       113\n",
      "\n",
      "\n",
      "# Tuning hyper-parameters for f1\n",
      "Best parameters set found on development set:\n",
      "\n",
      "{'C': 1, 'gamma': 0.001, 'kernel': 'poly', 'max_iter': 1000}\n",
      "\n",
      "Grid scores on development set:\n",
      "\n",
      "0.261 (+/-0.151) for {'C': 1, 'kernel': 'linear', 'max_iter': 1000}\n",
      "0.260 (+/-0.147) for {'C': 10, 'kernel': 'linear', 'max_iter': 1000}\n",
      "0.260 (+/-0.147) for {'C': 100, 'kernel': 'linear', 'max_iter': 1000}\n",
      "0.260 (+/-0.147) for {'C': 1000, 'kernel': 'linear', 'max_iter': 1000}\n",
      "0.287 (+/-0.201) for {'C': 1, 'gamma': 0.001, 'kernel': 'poly', 'max_iter': 1000}\n",
      "0.287 (+/-0.077) for {'C': 1, 'gamma': 0.0001, 'kernel': 'poly', 'max_iter': 1000}\n",
      "0.287 (+/-0.201) for {'C': 10, 'gamma': 0.001, 'kernel': 'poly', 'max_iter': 1000}\n",
      "0.275 (+/-0.246) for {'C': 10, 'gamma': 0.0001, 'kernel': 'poly', 'max_iter': 1000}\n",
      "0.287 (+/-0.201) for {'C': 100, 'gamma': 0.001, 'kernel': 'poly', 'max_iter': 1000}\n",
      "0.251 (+/-0.108) for {'C': 100, 'gamma': 0.0001, 'kernel': 'poly', 'max_iter': 1000}\n",
      "0.287 (+/-0.201) for {'C': 1000, 'gamma': 0.001, 'kernel': 'poly', 'max_iter': 1000}\n",
      "0.251 (+/-0.108) for {'C': 1000, 'gamma': 0.0001, 'kernel': 'poly', 'max_iter': 1000}\n",
      "0.147 (+/-0.009) for {'C': 1, 'gamma': 0.001, 'kernel': 'rbf', 'max_iter': 1000}\n",
      "0.139 (+/-0.005) for {'C': 1, 'gamma': 0.0001, 'kernel': 'rbf', 'max_iter': 1000}\n",
      "0.217 (+/-0.138) for {'C': 10, 'gamma': 0.001, 'kernel': 'rbf', 'max_iter': 1000}\n",
      "0.219 (+/-0.165) for {'C': 10, 'gamma': 0.0001, 'kernel': 'rbf', 'max_iter': 1000}\n",
      "0.243 (+/-0.152) for {'C': 100, 'gamma': 0.001, 'kernel': 'rbf', 'max_iter': 1000}\n",
      "0.206 (+/-0.096) for {'C': 100, 'gamma': 0.0001, 'kernel': 'rbf', 'max_iter': 1000}\n",
      "0.243 (+/-0.152) for {'C': 1000, 'gamma': 0.001, 'kernel': 'rbf', 'max_iter': 1000}\n",
      "0.267 (+/-0.179) for {'C': 1000, 'gamma': 0.0001, 'kernel': 'rbf', 'max_iter': 1000}\n",
      "\n",
      "Detailed classification report:\n",
      "\n",
      "The model is trained on the full development set.\n",
      "The scores are computed on the full evaluation set.\n",
      "\n",
      "              precision    recall  f1-score   support\n",
      "\n",
      "           0       0.79      0.80      0.79        69\n",
      "           1       0.16      0.29      0.21        14\n",
      "           2       0.33      0.23      0.27        13\n",
      "           3       0.33      0.15      0.21        13\n",
      "           4       0.00      0.00      0.00         4\n",
      "\n",
      "    accuracy                           0.57       113\n",
      "   macro avg       0.32      0.29      0.30       113\n",
      "weighted avg       0.58      0.57      0.56       113\n",
      "\n",
      "\n"
     ]
    }
   ],
   "source": [
    "param_grid = [{'kernel': ['linear'], 'C': [1, 10, 100, 1000], 'max_iter' : [1000]}, \n",
    "              {'kernel': ['poly'], 'gamma': [0.001, 0.0001], 'C': [1, 10, 100, 1000], 'max_iter' : [1000]}, \n",
    "              {'kernel': ['rbf'], 'gamma': [0.001, 0.0001], 'C': [1, 10, 100, 1000], 'max_iter' : [1000]}]\n",
    "\n",
    "\n",
    "scores = ['precision', 'recall', 'f1']\n",
    "\n",
    "for score in scores:\n",
    "    print(\"# Tuning hyper-parameters for %s\" % score)\n",
    "    \n",
    "    clf = GridSearchCV(SVC(), param_grid, scoring='%s_macro' % score)\n",
    "\n",
    "    clf.fit(xtrain1, ytrain1)\n",
    "\n",
    "    print(\"Best parameters set found on development set:\")\n",
    "    print()\n",
    "    print(clf.best_params_)\n",
    "    print()\n",
    "    print(\"Grid scores on development set:\")\n",
    "    print()\n",
    "    means = clf.cv_results_['mean_test_score']\n",
    "    stds = clf.cv_results_['std_test_score']          \n",
    "    for mean, std, params in zip(means, stds, clf.cv_results_['params']):\n",
    "         print(\"%0.3f (+/-%0.03f) for %r\"% (mean, std * 2, params))\n",
    "    print()\n",
    "\n",
    "    print(\"Detailed classification report:\")\n",
    "    print()\n",
    "    print(\"The model is trained on the full development set.\")\n",
    "    print(\"The scores are computed on the full evaluation set.\")\n",
    "    print()\n",
    "    y_true, y_pred = ytest1, clf.predict(xtest1)\n",
    "    print(classification_report(y_true, y_pred))\n",
    "    print()"
   ]
  },
  {
   "cell_type": "markdown",
   "id": "67b7fef6",
   "metadata": {},
   "source": [
    "### 57% small dataset Best accuracy in SVM"
   ]
  },
  {
   "cell_type": "code",
   "execution_count": null,
   "id": "00f49784",
   "metadata": {
    "scrolled": true
   },
   "outputs": [],
   "source": []
  }
 ],
 "metadata": {
  "kernelspec": {
   "display_name": "Python 3 (ipykernel)",
   "language": "python",
   "name": "python3"
  },
  "language_info": {
   "codemirror_mode": {
    "name": "ipython",
    "version": 3
   },
   "file_extension": ".py",
   "mimetype": "text/x-python",
   "name": "python",
   "nbconvert_exporter": "python",
   "pygments_lexer": "ipython3",
   "version": "3.8.10"
  }
 },
 "nbformat": 4,
 "nbformat_minor": 5
}
