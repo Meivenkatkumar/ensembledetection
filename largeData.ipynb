{
 "cells": [
  {
   "cell_type": "code",
   "execution_count": 1,
   "id": "b0279d8e",
   "metadata": {},
   "outputs": [],
   "source": [
    "# This Python 3 environment comes with many helpful analytics libraries installed\n",
    "# It is defined by the kaggle/python docker image: https://github.com/kaggle/docker-python\n",
    "# For example, here's several helpful packages to load in \n",
    "\n",
    "import numpy as np # linear algebra\n",
    "import pandas as pd # data processing, CSV file I/O (e.g. pd.read_csv)\n",
    "import matplotlib.pyplot as plt\n",
    "import seaborn as sns\n",
    "\n",
    "from collections import Counter\n",
    "\n",
    "# Input data files are available in the \"../input/\" directory.\n",
    "# For example, running this (by clicking run or pressing Shift+Enter) will list all files under the input directory\n",
    "import warnings\n",
    "warnings.filterwarnings(\"ignore\")\n",
    "import os\n",
    "\n",
    "\n",
    "data = pd.read_csv(\"./data/cleveland_final.csv\")"
   ]
  },
  {
   "cell_type": "code",
   "execution_count": 2,
   "id": "43b93934",
   "metadata": {},
   "outputs": [
    {
     "name": "stdout",
     "output_type": "stream",
     "text": [
      "Values of age column\n",
      " [63 67 37 41 56 62 57 53 44 52 48 54 49 64 58 60 50 66 43 40 69 59 42 55\n",
      " 61 65 71 51 46 45 39 68 47 34 35 29 70 77 38 74 76]\n",
      "--------------\n",
      "\n",
      "Values of sex column\n",
      " [1 0]\n",
      "--------------\n",
      "\n",
      "Values of cp column\n",
      " [1 4 3 2]\n",
      "--------------\n",
      "\n",
      "Values of trestbps column\n",
      " [145 160 120 130 140 172 150 110 132 117 135 112 105 124 125 142 128 170\n",
      " 155 104 180 138 108 134 122 115 118 100 200  94 165 102 152 101 126 174\n",
      " 148 178 158 192 129 144 123 136 146 106 156 154]\n",
      "--------------\n",
      "\n",
      "Values of htn column\n",
      " [1 0]\n",
      "--------------\n",
      "\n",
      "Values of chol column\n",
      " [233 286 229 250 204 236 268 354 254 203 192 294 256 263 199 168 239 275\n",
      " 266 211 283 284 224 206 219 340 226 247 167 230 335 234 177 276 353 243\n",
      " 225 302 212 330 175 417 197 198 290 253 172 273 213 305 216 304 188 282\n",
      " 185 232 326 231 269 267 248 360 258 308 245 270 208 264 321 274 325 235\n",
      " 257 164 141 252 255 201 222 260 182 303 265 309 307 249 186 341 183 407\n",
      " 217 288 220 209 227 261 174 281 221 205 240 289 318 298 564 246 322 299\n",
      " 300 293 277 214 207 223 160 394 184 315 409 244 195 196 126 313 259 200\n",
      " 262 215 228 193 271 210 327 149 295 306 178 237 218 242 319 166 180 311\n",
      " 278]\n",
      "--------------\n",
      "\n",
      "Values of cigs column\n",
      " [50 40 20  0 75 30 15  2 25 -9 10 60 99  4 80  8  5  3 70 35  1  9 28]\n",
      "--------------\n",
      "\n",
      "Values of years column\n",
      " [20 40 35  0 25 30 22 -9 32  8 50 19 23 24 29  1 15 54  6 33 34 45 10 47\n",
      "  7 36 37 38 41 18 48 17 28  5 31  4 14 27]\n",
      "--------------\n",
      "\n",
      "Values of fbs column\n",
      " [1 0]\n",
      "--------------\n",
      "\n",
      "Values of dm column\n",
      " [-9  1]\n",
      "--------------\n",
      "\n",
      "Values of famhist column\n",
      " [1 0]\n",
      "--------------\n",
      "\n",
      "Values of restecg column\n",
      " [2 0 1]\n",
      "--------------\n",
      "\n",
      "Values of ekgmo column\n",
      " [ 2  3  1  7  6  5 11 12 10  9  8  4]\n",
      "--------------\n",
      "\n",
      "Values of ekgday column\n",
      " [ 3  5 19 13  7  9 28 20  2 30 16 21 24 22 26  4 29 15  1 18 12  6 27 17\n",
      " 10 14 11 23 25  8 31]\n",
      "--------------\n",
      "\n",
      "Values of ekgyr column\n",
      " [81 82 83 84]\n",
      "--------------\n",
      "\n",
      "Values of dig column\n",
      " [ 0  1 -9]\n",
      "--------------\n",
      "\n",
      "Values of prop column\n",
      " [ 0  1 -9]\n",
      "--------------\n",
      "\n",
      "Values of nitr column\n",
      " [ 0  1 -9]\n",
      "--------------\n",
      "\n",
      "Values of pro column\n",
      " [ 0  1 -9]\n",
      "--------------\n",
      "\n",
      "Values of diuretic column\n",
      " [ 0  1 -9]\n",
      "--------------\n",
      "\n",
      "Values of thaldur column\n",
      " [10.5  9.5  8.5 13.   7.  11.3  6.   9.   8.   5.5  8.2  4.5  9.3 12.5\n",
      " 11.   9.8  7.8 10.  12.   5.8  5.   6.3  7.5  6.5 10.3  3.5  8.3 15.\n",
      "  7.9  5.2 12.2  5.9 14.   8.7  7.1  9.4  4.   6.7  7.6  5.1  8.1 10.4\n",
      "  7.3 10.1 12.4  6.1 13.3  3.4 10.2 14.4  9.2  5.3  6.4  4.7  3.6 11.2\n",
      "  9.7 11.5  3.1  1.8  6.8  3.   6.2  8.8  5.4]\n",
      "--------------\n",
      "\n",
      "Values of thaltime column\n",
      " [ 6.  13.  -9.   8.   3.   4.5  7.8  9.   5.8  6.3  7.5  6.5  5.   5.5\n",
      "  9.5  3.5 15.   7.9 12.   4.   0.   7.   5.1  9.3 11.   8.5  4.7  2.5\n",
      " 10.   2.   3.6  4.8  1.   6.8  5.2]\n",
      "--------------\n",
      "\n",
      "Values of met column\n",
      " [13.  10.  17.   9.  16.   7.  18.  14.  11.  15.  12.   6.   8.   5.\n",
      "  6.5  3.   4. ]\n",
      "--------------\n",
      "\n",
      "Values of thalach column\n",
      " [150 108 129 187 172 178 160 163 147 155 148 153 142 173 162 174 168 139\n",
      " 171 144 132 158 114 151 161 179 120 112 137 157 169 165 123 128 152 140\n",
      " 188 109 125 131 170 113  99 177 141 180 111 143 182 156 115 149 145 146\n",
      " 175 186 185 159 130 190 136  97 127 154 133 126 202 103 166 164 184 124\n",
      " 122  96 138  88 105 194 195 106 167  95 192 117 121 116  71 118 181 134]\n",
      "--------------\n",
      "\n",
      "Values of thalrest column\n",
      " [ 60  64  78  84  71  73  83  75  86  85  74  70  91  62  82  58  69  98\n",
      "  95  49  67  81  97 103  65  88  68  87  93  52 110  92  56  79  77  66\n",
      "  90  96  76 100  54  43  61 101  80 109  53  63  59  72  57  40 102  89\n",
      " 112  94 119  99 115  51]\n",
      "--------------\n",
      "\n",
      "Values of tpeakbps column\n",
      " [190 160 140 195 165 180 120 185 204 145 220 192 175 135 170 210 150 158\n",
      " 215 130 200 155 197 144  90 198 125 152 162 168 124 164 184 174 156 146\n",
      " 143 196 154 230 182 148 188 205 112  84 189 138 128 224 186 194 116  98\n",
      " 176 172  92 232]\n",
      "--------------\n",
      "\n",
      "Values of tpeakbpd column\n",
      " [ 90  80  68  74  70  84 120  75 118  87  96  98  64  60  62 100  85 105\n",
      "  78  83  50  95  65  88 110  72  82  76 104  40  94  89  58  45  56  66\n",
      "  26  77  86  92]\n",
      "--------------\n",
      "\n",
      "Values of dummy column\n",
      " [145 160 120 130 140 172 150 110 132 117 135 112 105 124 125 142 128 170\n",
      " 155 104 180 138 108 134 122 115 118 100 200  94 165 102 152 101 126 174\n",
      " 148 178 158 192 129 144 123 136 146 106 156 154]\n",
      "--------------\n",
      "\n",
      "Values of trestbpd column\n",
      " [ 85  90  80  78  86  75 100 105  70  76  88  95  92  94 110  84  98  74\n",
      "  89  82  72 102  68  64  60 106  66  50  96]\n",
      "--------------\n",
      "\n",
      "Values of exang column\n",
      " [0 1]\n",
      "--------------\n",
      "\n",
      "Values of xhypo column\n",
      " [0 1]\n",
      "--------------\n",
      "\n",
      "Values of oldpeak column\n",
      " [2.3 1.5 2.6 3.5 1.4 0.8 3.6 0.6 3.1 0.4 1.3 0.  0.5 1.6 1.  1.2 0.2 1.8\n",
      " 3.2 2.4 2.  2.5 2.2 2.8 3.  3.4 6.2 4.  5.6 2.9 0.1 2.1 1.9 4.2 0.9 1.1\n",
      " 3.8 0.7 0.3]\n",
      "--------------\n",
      "\n",
      "Values of slope column\n",
      " [3 2 1]\n",
      "--------------\n",
      "\n",
      "Values of rldv5e column\n",
      " [172 185 150 167  40 127 122  75  68 200 175 110  49 231 197  85 170  93\n",
      " 145  24 220 270 152 140  74 118 176 105 120 115  60 113  59  70 195  92\n",
      " 133 103 100 160 163 125  48  57 210  80  72 112 155 130 134  65 132 116\n",
      " 225 204  94  98  88  45 157 180 190  58  76  90 111 117 171  97 161 153\n",
      "  83  96  35  73 123  28 227 158 166 101  30 148  50  95 137  47 178 230\n",
      " 206 106 222 135 138 144 108 179 121  87  71 104 102  55 177 252 253 154\n",
      "  78 165 240  41  62  91]\n",
      "--------------\n",
      "\n",
      "Values of ca column\n",
      " [ 0  3  2  1 -9]\n",
      "--------------\n",
      "\n",
      "Values of thal column\n",
      " [ 6  3  7 -9]\n",
      "--------------\n",
      "\n",
      "Values of cmo column\n",
      " [ 2  3  7  1  5  6 11 10  9 12  8  4]\n",
      "--------------\n",
      "\n",
      "Values of cday column\n",
      " [16  5 20  4 18 10  2 21  3  6  1 19 14 25 27 23 28 30 22 29 26 13  7  9\n",
      " 17 15 11  8 12 24 31]\n",
      "--------------\n",
      "\n",
      "Values of cyr column\n",
      " [81 82 83 84]\n",
      "--------------\n",
      "\n",
      "Values of num column\n",
      " [0 2 1 3 4]\n",
      "--------------\n",
      "\n",
      "Values of lmt column\n",
      " [1 2]\n",
      "--------------\n",
      "\n",
      "Values of ladprox column\n",
      " [1 2]\n",
      "--------------\n",
      "\n",
      "Values of laddist column\n",
      " [1 2]\n",
      "--------------\n",
      "\n",
      "Values of cxmain column\n",
      " [1 2]\n",
      "--------------\n",
      "\n",
      "Values of om1 column\n",
      " [1 2]\n",
      "--------------\n",
      "\n",
      "Values of rcaprox column\n",
      " [1 2]\n",
      "--------------\n",
      "\n",
      "Values of rcadist column\n",
      " [1 2]\n",
      "--------------\n",
      "\n",
      "Values of lvx3 column\n",
      " [1 6 3 5 4 2 8]\n",
      "--------------\n",
      "\n",
      "Values of lvx4 column\n",
      " [1 7 3 8 5 2 6]\n",
      "--------------\n",
      "\n",
      "Values of lvf column\n",
      " [1 3 2 4]\n",
      "--------------\n",
      "\n"
     ]
    },
    {
     "data": {
      "text/html": [
       "<div>\n",
       "<style scoped>\n",
       "    .dataframe tbody tr th:only-of-type {\n",
       "        vertical-align: middle;\n",
       "    }\n",
       "\n",
       "    .dataframe tbody tr th {\n",
       "        vertical-align: top;\n",
       "    }\n",
       "\n",
       "    .dataframe thead th {\n",
       "        text-align: right;\n",
       "    }\n",
       "</style>\n",
       "<table border=\"1\" class=\"dataframe\">\n",
       "  <thead>\n",
       "    <tr style=\"text-align: right;\">\n",
       "      <th></th>\n",
       "      <th>age</th>\n",
       "      <th>sex</th>\n",
       "      <th>cp</th>\n",
       "      <th>trestbps</th>\n",
       "      <th>htn</th>\n",
       "      <th>chol</th>\n",
       "      <th>cigs</th>\n",
       "      <th>years</th>\n",
       "      <th>fbs</th>\n",
       "      <th>dm</th>\n",
       "      <th>...</th>\n",
       "      <th>lmt</th>\n",
       "      <th>ladprox</th>\n",
       "      <th>laddist</th>\n",
       "      <th>cxmain</th>\n",
       "      <th>om1</th>\n",
       "      <th>rcaprox</th>\n",
       "      <th>rcadist</th>\n",
       "      <th>lvx3</th>\n",
       "      <th>lvx4</th>\n",
       "      <th>lvf</th>\n",
       "    </tr>\n",
       "  </thead>\n",
       "  <tbody>\n",
       "    <tr>\n",
       "      <th>count</th>\n",
       "      <td>282.000000</td>\n",
       "      <td>282.000000</td>\n",
       "      <td>282.000000</td>\n",
       "      <td>282.000000</td>\n",
       "      <td>282.000000</td>\n",
       "      <td>282.000000</td>\n",
       "      <td>282.000000</td>\n",
       "      <td>282.000000</td>\n",
       "      <td>282.000000</td>\n",
       "      <td>282.000000</td>\n",
       "      <td>...</td>\n",
       "      <td>282.000000</td>\n",
       "      <td>282.000000</td>\n",
       "      <td>282.000000</td>\n",
       "      <td>282.000000</td>\n",
       "      <td>282.000000</td>\n",
       "      <td>282.000000</td>\n",
       "      <td>282.000000</td>\n",
       "      <td>282.000000</td>\n",
       "      <td>282.000000</td>\n",
       "      <td>282.00000</td>\n",
       "    </tr>\n",
       "    <tr>\n",
       "      <th>mean</th>\n",
       "      <td>54.411348</td>\n",
       "      <td>0.677305</td>\n",
       "      <td>3.163121</td>\n",
       "      <td>131.563830</td>\n",
       "      <td>0.617021</td>\n",
       "      <td>249.092199</td>\n",
       "      <td>16.460993</td>\n",
       "      <td>14.829787</td>\n",
       "      <td>0.148936</td>\n",
       "      <td>-8.184397</td>\n",
       "      <td>...</td>\n",
       "      <td>1.042553</td>\n",
       "      <td>1.141844</td>\n",
       "      <td>1.205674</td>\n",
       "      <td>1.156028</td>\n",
       "      <td>1.163121</td>\n",
       "      <td>1.173759</td>\n",
       "      <td>1.127660</td>\n",
       "      <td>1.134752</td>\n",
       "      <td>1.411348</td>\n",
       "      <td>1.14539</td>\n",
       "    </tr>\n",
       "    <tr>\n",
       "      <th>std</th>\n",
       "      <td>9.053083</td>\n",
       "      <td>0.468338</td>\n",
       "      <td>0.955405</td>\n",
       "      <td>17.757496</td>\n",
       "      <td>0.486977</td>\n",
       "      <td>51.217546</td>\n",
       "      <td>19.580300</td>\n",
       "      <td>15.564563</td>\n",
       "      <td>0.356658</td>\n",
       "      <td>2.741802</td>\n",
       "      <td>...</td>\n",
       "      <td>0.202206</td>\n",
       "      <td>0.349510</td>\n",
       "      <td>0.404912</td>\n",
       "      <td>0.363527</td>\n",
       "      <td>0.370132</td>\n",
       "      <td>0.379576</td>\n",
       "      <td>0.334304</td>\n",
       "      <td>0.766002</td>\n",
       "      <td>1.439508</td>\n",
       "      <td>0.44257</td>\n",
       "    </tr>\n",
       "    <tr>\n",
       "      <th>min</th>\n",
       "      <td>29.000000</td>\n",
       "      <td>0.000000</td>\n",
       "      <td>1.000000</td>\n",
       "      <td>94.000000</td>\n",
       "      <td>0.000000</td>\n",
       "      <td>126.000000</td>\n",
       "      <td>-9.000000</td>\n",
       "      <td>-9.000000</td>\n",
       "      <td>0.000000</td>\n",
       "      <td>-9.000000</td>\n",
       "      <td>...</td>\n",
       "      <td>1.000000</td>\n",
       "      <td>1.000000</td>\n",
       "      <td>1.000000</td>\n",
       "      <td>1.000000</td>\n",
       "      <td>1.000000</td>\n",
       "      <td>1.000000</td>\n",
       "      <td>1.000000</td>\n",
       "      <td>1.000000</td>\n",
       "      <td>1.000000</td>\n",
       "      <td>1.00000</td>\n",
       "    </tr>\n",
       "    <tr>\n",
       "      <th>25%</th>\n",
       "      <td>48.000000</td>\n",
       "      <td>0.000000</td>\n",
       "      <td>3.000000</td>\n",
       "      <td>120.000000</td>\n",
       "      <td>0.000000</td>\n",
       "      <td>213.000000</td>\n",
       "      <td>0.000000</td>\n",
       "      <td>0.000000</td>\n",
       "      <td>0.000000</td>\n",
       "      <td>-9.000000</td>\n",
       "      <td>...</td>\n",
       "      <td>1.000000</td>\n",
       "      <td>1.000000</td>\n",
       "      <td>1.000000</td>\n",
       "      <td>1.000000</td>\n",
       "      <td>1.000000</td>\n",
       "      <td>1.000000</td>\n",
       "      <td>1.000000</td>\n",
       "      <td>1.000000</td>\n",
       "      <td>1.000000</td>\n",
       "      <td>1.00000</td>\n",
       "    </tr>\n",
       "    <tr>\n",
       "      <th>50%</th>\n",
       "      <td>55.000000</td>\n",
       "      <td>1.000000</td>\n",
       "      <td>3.000000</td>\n",
       "      <td>130.000000</td>\n",
       "      <td>1.000000</td>\n",
       "      <td>244.000000</td>\n",
       "      <td>10.000000</td>\n",
       "      <td>15.000000</td>\n",
       "      <td>0.000000</td>\n",
       "      <td>-9.000000</td>\n",
       "      <td>...</td>\n",
       "      <td>1.000000</td>\n",
       "      <td>1.000000</td>\n",
       "      <td>1.000000</td>\n",
       "      <td>1.000000</td>\n",
       "      <td>1.000000</td>\n",
       "      <td>1.000000</td>\n",
       "      <td>1.000000</td>\n",
       "      <td>1.000000</td>\n",
       "      <td>1.000000</td>\n",
       "      <td>1.00000</td>\n",
       "    </tr>\n",
       "    <tr>\n",
       "      <th>75%</th>\n",
       "      <td>61.000000</td>\n",
       "      <td>1.000000</td>\n",
       "      <td>4.000000</td>\n",
       "      <td>140.000000</td>\n",
       "      <td>1.000000</td>\n",
       "      <td>277.000000</td>\n",
       "      <td>30.000000</td>\n",
       "      <td>30.000000</td>\n",
       "      <td>0.000000</td>\n",
       "      <td>-9.000000</td>\n",
       "      <td>...</td>\n",
       "      <td>1.000000</td>\n",
       "      <td>1.000000</td>\n",
       "      <td>1.000000</td>\n",
       "      <td>1.000000</td>\n",
       "      <td>1.000000</td>\n",
       "      <td>1.000000</td>\n",
       "      <td>1.000000</td>\n",
       "      <td>1.000000</td>\n",
       "      <td>1.000000</td>\n",
       "      <td>1.00000</td>\n",
       "    </tr>\n",
       "    <tr>\n",
       "      <th>max</th>\n",
       "      <td>77.000000</td>\n",
       "      <td>1.000000</td>\n",
       "      <td>4.000000</td>\n",
       "      <td>200.000000</td>\n",
       "      <td>1.000000</td>\n",
       "      <td>564.000000</td>\n",
       "      <td>99.000000</td>\n",
       "      <td>54.000000</td>\n",
       "      <td>1.000000</td>\n",
       "      <td>1.000000</td>\n",
       "      <td>...</td>\n",
       "      <td>2.000000</td>\n",
       "      <td>2.000000</td>\n",
       "      <td>2.000000</td>\n",
       "      <td>2.000000</td>\n",
       "      <td>2.000000</td>\n",
       "      <td>2.000000</td>\n",
       "      <td>2.000000</td>\n",
       "      <td>8.000000</td>\n",
       "      <td>8.000000</td>\n",
       "      <td>4.00000</td>\n",
       "    </tr>\n",
       "  </tbody>\n",
       "</table>\n",
       "<p>8 rows × 50 columns</p>\n",
       "</div>"
      ],
      "text/plain": [
       "              age         sex          cp    trestbps         htn        chol  \\\n",
       "count  282.000000  282.000000  282.000000  282.000000  282.000000  282.000000   \n",
       "mean    54.411348    0.677305    3.163121  131.563830    0.617021  249.092199   \n",
       "std      9.053083    0.468338    0.955405   17.757496    0.486977   51.217546   \n",
       "min     29.000000    0.000000    1.000000   94.000000    0.000000  126.000000   \n",
       "25%     48.000000    0.000000    3.000000  120.000000    0.000000  213.000000   \n",
       "50%     55.000000    1.000000    3.000000  130.000000    1.000000  244.000000   \n",
       "75%     61.000000    1.000000    4.000000  140.000000    1.000000  277.000000   \n",
       "max     77.000000    1.000000    4.000000  200.000000    1.000000  564.000000   \n",
       "\n",
       "             cigs       years         fbs          dm  ...         lmt  \\\n",
       "count  282.000000  282.000000  282.000000  282.000000  ...  282.000000   \n",
       "mean    16.460993   14.829787    0.148936   -8.184397  ...    1.042553   \n",
       "std     19.580300   15.564563    0.356658    2.741802  ...    0.202206   \n",
       "min     -9.000000   -9.000000    0.000000   -9.000000  ...    1.000000   \n",
       "25%      0.000000    0.000000    0.000000   -9.000000  ...    1.000000   \n",
       "50%     10.000000   15.000000    0.000000   -9.000000  ...    1.000000   \n",
       "75%     30.000000   30.000000    0.000000   -9.000000  ...    1.000000   \n",
       "max     99.000000   54.000000    1.000000    1.000000  ...    2.000000   \n",
       "\n",
       "          ladprox     laddist      cxmain         om1     rcaprox     rcadist  \\\n",
       "count  282.000000  282.000000  282.000000  282.000000  282.000000  282.000000   \n",
       "mean     1.141844    1.205674    1.156028    1.163121    1.173759    1.127660   \n",
       "std      0.349510    0.404912    0.363527    0.370132    0.379576    0.334304   \n",
       "min      1.000000    1.000000    1.000000    1.000000    1.000000    1.000000   \n",
       "25%      1.000000    1.000000    1.000000    1.000000    1.000000    1.000000   \n",
       "50%      1.000000    1.000000    1.000000    1.000000    1.000000    1.000000   \n",
       "75%      1.000000    1.000000    1.000000    1.000000    1.000000    1.000000   \n",
       "max      2.000000    2.000000    2.000000    2.000000    2.000000    2.000000   \n",
       "\n",
       "             lvx3        lvx4        lvf  \n",
       "count  282.000000  282.000000  282.00000  \n",
       "mean     1.134752    1.411348    1.14539  \n",
       "std      0.766002    1.439508    0.44257  \n",
       "min      1.000000    1.000000    1.00000  \n",
       "25%      1.000000    1.000000    1.00000  \n",
       "50%      1.000000    1.000000    1.00000  \n",
       "75%      1.000000    1.000000    1.00000  \n",
       "max      8.000000    8.000000    4.00000  \n",
       "\n",
       "[8 rows x 50 columns]"
      ]
     },
     "execution_count": 2,
     "metadata": {},
     "output_type": "execute_result"
    }
   ],
   "source": [
    "column_list = data.columns\n",
    "for i in column_list:\n",
    "    print(\"Values of\",i,\"column\\n\",data[i].unique())\n",
    "    print(\"--------------\\n\")\n",
    "    \n",
    "data.describe()"
   ]
  },
  {
   "cell_type": "code",
   "execution_count": 3,
   "id": "76e78289",
   "metadata": {},
   "outputs": [
    {
     "data": {
      "image/png": "[encoded data removed]",
      "text/plain": [
       "<Figure size 1080x216 with 5 Axes>"
      ]
     },
     "metadata": {
      "needs_background": "light"
     },
     "output_type": "display_data"
    }
   ],
   "source": [
    "g = sns.FacetGrid(data, col = \"num\")\n",
    "g.map(sns.distplot, \"age\", bins = 25)\n",
    "plt.show()"
   ]
  },
  {
   "cell_type": "code",
   "execution_count": 4,
   "id": "9c53d66c",
   "metadata": {},
   "outputs": [
    {
     "data": {
      "image/png": "[encoded data removed]",
      "text/plain": [
       "<Figure size 288x288 with 1 Axes>"
      ]
     },
     "metadata": {
      "needs_background": "light"
     },
     "output_type": "display_data"
    }
   ],
   "source": [
    "# Let's check the relationship of each column with heart disease\n",
    "# we cant visualize each column, that would be meaningless so I'll create new list.\n",
    "column_list2 = [\"sex\",\"cp\",\"fbs\",\"restecg\",\"exang\",\"slope\",\"ca\",\"thal\"]\n",
    "\n",
    "g = sns.factorplot(x = column_list2[0], y = \"num\", data = data, kind = \"bar\",size=4)\n",
    "g.set_ylabels(\"Heart Disase Probability\")\n",
    "g.set_xlabels(column_list2[0])\n",
    "plt.show()"
   ]
  },
  {
   "cell_type": "code",
   "execution_count": 5,
   "id": "34e0743e",
   "metadata": {},
   "outputs": [
    {
     "data": {
      "image/png": "[encoded data removed]",
      "text/plain": [
       "<Figure size 288x288 with 1 Axes>"
      ]
     },
     "metadata": {
      "needs_background": "light"
     },
     "output_type": "display_data"
    }
   ],
   "source": [
    "g = sns.factorplot(x = column_list2[1], y = \"num\", data = data, kind = \"bar\",size=4)\n",
    "g.set_ylabels(\"Heart Disase Probability\")\n",
    "g.set_xlabels(column_list2[1])\n",
    "plt.show()"
   ]
  },
  {
   "cell_type": "code",
   "execution_count": 6,
   "id": "41f937ea",
   "metadata": {},
   "outputs": [
    {
     "data": {
      "text/html": [
       "<div>\n",
       "<style scoped>\n",
       "    .dataframe tbody tr th:only-of-type {\n",
       "        vertical-align: middle;\n",
       "    }\n",
       "\n",
       "    .dataframe tbody tr th {\n",
       "        vertical-align: top;\n",
       "    }\n",
       "\n",
       "    .dataframe thead th {\n",
       "        text-align: right;\n",
       "    }\n",
       "</style>\n",
       "<table border=\"1\" class=\"dataframe\">\n",
       "  <thead>\n",
       "    <tr style=\"text-align: right;\">\n",
       "      <th></th>\n",
       "      <th>age</th>\n",
       "      <th>trestbps</th>\n",
       "      <th>htn</th>\n",
       "      <th>chol</th>\n",
       "      <th>cigs</th>\n",
       "      <th>years</th>\n",
       "      <th>fbs</th>\n",
       "      <th>dm</th>\n",
       "      <th>famhist</th>\n",
       "      <th>ekgmo</th>\n",
       "      <th>...</th>\n",
       "      <th>restecg_2</th>\n",
       "      <th>exang_0</th>\n",
       "      <th>exang_1</th>\n",
       "      <th>slope_1</th>\n",
       "      <th>slope_2</th>\n",
       "      <th>slope_3</th>\n",
       "      <th>thal_-9</th>\n",
       "      <th>thal_3</th>\n",
       "      <th>thal_6</th>\n",
       "      <th>thal_7</th>\n",
       "    </tr>\n",
       "  </thead>\n",
       "  <tbody>\n",
       "    <tr>\n",
       "      <th>0</th>\n",
       "      <td>63</td>\n",
       "      <td>145</td>\n",
       "      <td>1</td>\n",
       "      <td>233</td>\n",
       "      <td>50</td>\n",
       "      <td>20</td>\n",
       "      <td>1</td>\n",
       "      <td>-9</td>\n",
       "      <td>1</td>\n",
       "      <td>2</td>\n",
       "      <td>...</td>\n",
       "      <td>1</td>\n",
       "      <td>1</td>\n",
       "      <td>0</td>\n",
       "      <td>0</td>\n",
       "      <td>0</td>\n",
       "      <td>1</td>\n",
       "      <td>0</td>\n",
       "      <td>0</td>\n",
       "      <td>1</td>\n",
       "      <td>0</td>\n",
       "    </tr>\n",
       "    <tr>\n",
       "      <th>1</th>\n",
       "      <td>67</td>\n",
       "      <td>160</td>\n",
       "      <td>1</td>\n",
       "      <td>286</td>\n",
       "      <td>40</td>\n",
       "      <td>40</td>\n",
       "      <td>0</td>\n",
       "      <td>-9</td>\n",
       "      <td>1</td>\n",
       "      <td>3</td>\n",
       "      <td>...</td>\n",
       "      <td>1</td>\n",
       "      <td>0</td>\n",
       "      <td>1</td>\n",
       "      <td>0</td>\n",
       "      <td>1</td>\n",
       "      <td>0</td>\n",
       "      <td>0</td>\n",
       "      <td>1</td>\n",
       "      <td>0</td>\n",
       "      <td>0</td>\n",
       "    </tr>\n",
       "    <tr>\n",
       "      <th>2</th>\n",
       "      <td>67</td>\n",
       "      <td>120</td>\n",
       "      <td>1</td>\n",
       "      <td>229</td>\n",
       "      <td>20</td>\n",
       "      <td>35</td>\n",
       "      <td>0</td>\n",
       "      <td>-9</td>\n",
       "      <td>1</td>\n",
       "      <td>2</td>\n",
       "      <td>...</td>\n",
       "      <td>1</td>\n",
       "      <td>0</td>\n",
       "      <td>1</td>\n",
       "      <td>0</td>\n",
       "      <td>1</td>\n",
       "      <td>0</td>\n",
       "      <td>0</td>\n",
       "      <td>0</td>\n",
       "      <td>0</td>\n",
       "      <td>1</td>\n",
       "    </tr>\n",
       "    <tr>\n",
       "      <th>3</th>\n",
       "      <td>37</td>\n",
       "      <td>130</td>\n",
       "      <td>0</td>\n",
       "      <td>250</td>\n",
       "      <td>0</td>\n",
       "      <td>0</td>\n",
       "      <td>0</td>\n",
       "      <td>-9</td>\n",
       "      <td>1</td>\n",
       "      <td>2</td>\n",
       "      <td>...</td>\n",
       "      <td>0</td>\n",
       "      <td>1</td>\n",
       "      <td>0</td>\n",
       "      <td>0</td>\n",
       "      <td>0</td>\n",
       "      <td>1</td>\n",
       "      <td>0</td>\n",
       "      <td>1</td>\n",
       "      <td>0</td>\n",
       "      <td>0</td>\n",
       "    </tr>\n",
       "    <tr>\n",
       "      <th>4</th>\n",
       "      <td>41</td>\n",
       "      <td>130</td>\n",
       "      <td>1</td>\n",
       "      <td>204</td>\n",
       "      <td>0</td>\n",
       "      <td>0</td>\n",
       "      <td>0</td>\n",
       "      <td>-9</td>\n",
       "      <td>1</td>\n",
       "      <td>2</td>\n",
       "      <td>...</td>\n",
       "      <td>1</td>\n",
       "      <td>1</td>\n",
       "      <td>0</td>\n",
       "      <td>1</td>\n",
       "      <td>0</td>\n",
       "      <td>0</td>\n",
       "      <td>0</td>\n",
       "      <td>1</td>\n",
       "      <td>0</td>\n",
       "      <td>0</td>\n",
       "    </tr>\n",
       "  </tbody>\n",
       "</table>\n",
       "<p>5 rows × 62 columns</p>\n",
       "</div>"
      ],
      "text/plain": [
       "   age  trestbps  htn  chol  cigs  years  fbs  dm  famhist  ekgmo  ...  \\\n",
       "0   63       145    1   233    50     20    1  -9        1      2  ...   \n",
       "1   67       160    1   286    40     40    0  -9        1      3  ...   \n",
       "2   67       120    1   229    20     35    0  -9        1      2  ...   \n",
       "3   37       130    0   250     0      0    0  -9        1      2  ...   \n",
       "4   41       130    1   204     0      0    0  -9        1      2  ...   \n",
       "\n",
       "   restecg_2  exang_0  exang_1  slope_1  slope_2  slope_3  thal_-9  thal_3  \\\n",
       "0          1        1        0        0        0        1        0       0   \n",
       "1          1        0        1        0        1        0        0       1   \n",
       "2          1        0        1        0        1        0        0       0   \n",
       "3          0        1        0        0        0        1        0       1   \n",
       "4          1        1        0        1        0        0        0       1   \n",
       "\n",
       "   thal_6  thal_7  \n",
       "0       1       0  \n",
       "1       0       0  \n",
       "2       0       1  \n",
       "3       0       0  \n",
       "4       0       0  \n",
       "\n",
       "[5 rows x 62 columns]"
      ]
     },
     "execution_count": 6,
     "metadata": {},
     "output_type": "execute_result"
    }
   ],
   "source": [
    "dummy_list = [\"sex\",\"cp\",\"restecg\",\"exang\",\"slope\",\"thal\"]\n",
    "data = pd.get_dummies(data,columns=dummy_list)\n",
    "data.head()"
   ]
  },
  {
   "cell_type": "code",
   "execution_count": 7,
   "id": "e8004c0a",
   "metadata": {},
   "outputs": [],
   "source": [
    "# Import Machine Learning Libraries\n",
    "\n",
    "from sklearn.naive_bayes import GaussianNB\n",
    "from sklearn.model_selection import train_test_split, StratifiedKFold, GridSearchCV\n",
    "from sklearn.linear_model import LogisticRegression\n",
    "from sklearn.svm import SVC\n",
    "from sklearn.ensemble import RandomForestClassifier, VotingClassifier\n",
    "from sklearn.neighbors import KNeighborsClassifier\n",
    "from sklearn.tree import DecisionTreeClassifier\n",
    "from sklearn.metrics import accuracy_score, confusion_matrix"
   ]
  },
  {
   "cell_type": "code",
   "execution_count": 8,
   "id": "298095ef",
   "metadata": {},
   "outputs": [],
   "source": [
    "y = data.num.values\n",
    "x_data = data.drop([\"num\"],axis=1)\n",
    "# big values can be dominated low values so we use normalization method \n",
    "x = (x_data - np.min(x_data)) / (np.max(x_data) - np.min(x_data))"
   ]
  },
  {
   "cell_type": "code",
   "execution_count": 9,
   "id": "b220ab6b",
   "metadata": {},
   "outputs": [
    {
     "name": "stdout",
     "output_type": "stream",
     "text": [
      "x_train 197\n",
      "x_test 85\n",
      "y_train 197\n",
      "y_test 85\n"
     ]
    }
   ],
   "source": [
    "x_train, x_test, y_train, y_test = train_test_split(x,y, test_size = 0.3, random_state = 42)\n",
    "print(\"x_train\",len(x_train))\n",
    "print(\"x_test\",len(x_test))\n",
    "print(\"y_train\",len(y_train))\n",
    "print(\"y_test\",len(y_test))"
   ]
  },
  {
   "cell_type": "code",
   "execution_count": 10,
   "id": "8cd1bf15",
   "metadata": {},
   "outputs": [],
   "source": [
    "random_state = 42\n",
    "classifier = [KNeighborsClassifier(),\n",
    "              SVC(random_state = random_state,probability=True),\n",
    "              DecisionTreeClassifier(random_state = random_state),\n",
    "             RandomForestClassifier(random_state = random_state),\n",
    "             LogisticRegression(random_state = random_state),\n",
    "             ]\n",
    "\n",
    "knn_param_grid = {\"n_neighbors\": np.linspace(1,19,10, dtype = int).tolist(),\n",
    "                 \"weights\": [\"uniform\",\"distance\"],\n",
    "                 \"metric\":[\"euclidean\",\"manhattan\"]}\n",
    "\n",
    "svm_param_grid = {\"kernel\" : [\"rbf\"],\n",
    "                 \"gamma\": [0.001, 0.01, 0.1, 1],\n",
    "                 \"C\": [1,10,50,100,200,300,1000]}\n",
    "\n",
    "dt_param_grid = {\"min_samples_split\" : range(10,500,20),\n",
    "                \"max_depth\": range(1,20,2)}\n",
    "\n",
    "rf_param_grid = {\"max_features\": [1,3,10],\n",
    "                \"min_samples_split\":[2,3,10],\n",
    "                \"min_samples_leaf\":[1,3,10],\n",
    "                \"bootstrap\":[False],\n",
    "                \"n_estimators\":[100,300],\n",
    "                \"criterion\":[\"gini\"]}\n",
    "\n",
    "logreg_param_grid = {\"C\":np.logspace(-3,3,7),\n",
    "                    \"penalty\": [\"l1\",\"l2\"]}\n",
    "\n",
    "\n",
    "classifier_param = [knn_param_grid,\n",
    "                   svm_param_grid,\n",
    "                    dt_param_grid,\n",
    "                   rf_param_grid,\n",
    "                   logreg_param_grid,\n",
    "                   knn_param_grid]"
   ]
  },
  {
   "cell_type": "code",
   "execution_count": 11,
   "id": "d2ae9c87",
   "metadata": {},
   "outputs": [
    {
     "name": "stdout",
     "output_type": "stream",
     "text": [
      "Fitting 10 folds for each of 40 candidates, totalling 400 fits\n",
      "68.47368421052632\n",
      "Fitting 10 folds for each of 28 candidates, totalling 280 fits\n",
      "87.76315789473684\n",
      "Fitting 10 folds for each of 250 candidates, totalling 2500 fits\n",
      "82.18421052631581\n",
      "Fitting 10 folds for each of 54 candidates, totalling 540 fits\n",
      "77.07894736842104\n",
      "Fitting 10 folds for each of 14 candidates, totalling 140 fits\n",
      "83.26315789473684\n"
     ]
    }
   ],
   "source": [
    "cv_result = []\n",
    "best_estimators = []\n",
    "for i in range(len(classifier)):\n",
    "    clf = GridSearchCV(classifier[i], param_grid=classifier_param[i], cv = StratifiedKFold(n_splits = 10), scoring = \"accuracy\", n_jobs = -1,verbose = 1)\n",
    "    clf.fit(x_train,y_train)\n",
    "    cv_result.append(clf.best_score_ * 100)\n",
    "    best_estimators.append(clf.best_estimator_)\n",
    "    print(cv_result[i])"
   ]
  },
  {
   "cell_type": "code",
   "execution_count": 12,
   "id": "f7dff58c",
   "metadata": {},
   "outputs": [
    {
     "data": {
      "text/plain": [
       "Text(0.5, 1.0, 'Cross Validation Scores')"
      ]
     },
     "execution_count": 12,
     "metadata": {},
     "output_type": "execute_result"
    },
    {
     "data": {
      "image/png": "[encoded data removed]",
      "text/plain": [
       "<Figure size 432x288 with 1 Axes>"
      ]
     },
     "metadata": {
      "needs_background": "light"
     },
     "output_type": "display_data"
    }
   ],
   "source": [
    "cv_results = pd.DataFrame({\"Cross Validation Means\":cv_result, \"ML Models\":[ \"KNeighborsClassifier\", \"SVM\",\"Decision Tree Classifier\",\n",
    "             \"Random Forest Classifier\",\"LogisticRegression\",\n",
    "            ]})\n",
    "\n",
    "g = sns.barplot(\"Cross Validation Means\", \"ML Models\", data = cv_results)\n",
    "g.set_xlabel(\"Mean Accuracy\")\n",
    "g.set_title(\"Cross Validation Scores\")"
   ]
  },
  {
   "cell_type": "code",
   "execution_count": 13,
   "id": "58f7753a",
   "metadata": {},
   "outputs": [
    {
     "data": {
      "text/plain": [
       "[KNeighborsClassifier(metric='manhattan', n_neighbors=11, weights='distance'),\n",
       " SVC(C=200, gamma=0.01, probability=True, random_state=42),\n",
       " DecisionTreeClassifier(max_depth=7, min_samples_split=30, random_state=42),\n",
       " RandomForestClassifier(bootstrap=False, max_features=10, min_samples_split=3,\n",
       "                        random_state=42),\n",
       " LogisticRegression(C=1000.0, random_state=42)]"
      ]
     },
     "execution_count": 13,
     "metadata": {},
     "output_type": "execute_result"
    }
   ],
   "source": [
    "# We must detect the best k value of knn model so we will determine best_estimators list\n",
    "best_estimators"
   ]
  },
  {
   "cell_type": "code",
   "execution_count": 14,
   "id": "f9843aa0",
   "metadata": {},
   "outputs": [],
   "source": [
    "# We must find predicted values of each models. After that, we will compare with real values.\n",
    "knn9 = KNeighborsClassifier(n_neighbors = 9)\n",
    "knn9.fit(x_train, y_train)\n",
    "y_head_knn = knn9.predict(x_test)\n",
    "\n",
    "svm = SVC(random_state = 1)\n",
    "svm.fit(x_train,y_train)\n",
    "y_head_svm = svm.predict(x_test)\n",
    "\n",
    "rf = RandomForestClassifier(n_estimators = 500, random_state = 1)\n",
    "rf.fit(x_train,y_train)\n",
    "y_head_rf = rf.predict(x_test)"
   ]
  },
  {
   "cell_type": "code",
   "execution_count": 15,
   "id": "ee496cd6",
   "metadata": {},
   "outputs": [
    {
     "data": {
      "image/png": "[encoded data removed]",
      "text/plain": [
       "<Figure size 864x432 with 3 Axes>"
      ]
     },
     "metadata": {
      "needs_background": "light"
     },
     "output_type": "display_data"
    }
   ],
   "source": [
    "# We find confusion matrix of models below.\n",
    "cm_knn = confusion_matrix(y_test,y_head_knn)\n",
    "cm_svm = confusion_matrix(y_test,y_head_svm)\n",
    "cm_rf = confusion_matrix(y_test,y_head_rf)\n",
    "\n",
    "# Let's visualize them\n",
    "plt.figure(figsize=(12,6))\n",
    "plt.suptitle(\"Confusion Matrices\",fontsize=24, color=\"red\")\n",
    "plt.subplots_adjust(wspace = 0.4, hspace= 0.4)\n",
    "\n",
    "plt.subplot(1,3,1)\n",
    "plt.title(\"K Nearest Neighbors Confusion Matrix\",fontsize=10,color=\"blue\")\n",
    "sns.heatmap(cm_knn,annot=True, cmap=\"YlGnBu\",fmt=\"d\",cbar=False, annot_kws={\"size\": 18})\n",
    "\n",
    "plt.subplot(1,3,2)\n",
    "plt.title(\"Support Vector Machine Confusion Matrix\",fontsize=10,color=\"blue\")\n",
    "sns.heatmap(cm_svm,annot=True, cmap=\"YlGnBu\",fmt=\"d\",cbar=False, annot_kws={\"size\": 18})\n",
    "\n",
    "plt.subplot(1,3,3)\n",
    "plt.title(\"Random Forest Confusion Matrix\",fontsize=10,color=\"blue\")\n",
    "sns.heatmap(cm_svm,annot=True, cmap=\"YlGnBu\",fmt=\"d\",cbar=False, annot_kws={\"size\": 18})\n",
    "\n",
    "plt.show()"
   ]
  },
  {
   "cell_type": "code",
   "execution_count": 16,
   "id": "80da20e3",
   "metadata": {},
   "outputs": [
    {
     "name": "stdout",
     "output_type": "stream",
     "text": [
      "Accuracy of Ensemble: 83.53\n"
     ]
    }
   ],
   "source": [
    "votingC = VotingClassifier(estimators = [(\"knn\",best_estimators[0]),\n",
    "                                        (\"svm\",best_estimators[1]),\n",
    "                                        (\"rf\",best_estimators[3])],\n",
    "                                        voting = \"soft\", n_jobs = -1)\n",
    "votingC = votingC.fit(x_train, y_train)\n",
    "print(\"Accuracy of Ensemble: {:.2f}\".format(accuracy_score(votingC.predict(x_test),y_test)*100))"
   ]
  },
  {
   "cell_type": "code",
   "execution_count": 17,
   "id": "4abbb559",
   "metadata": {},
   "outputs": [
    {
     "name": "stdout",
     "output_type": "stream",
     "text": [
      "Training Accuracy: 94.92%\n",
      "Testing Accuracy: 78.82%\n"
     ]
    }
   ],
   "source": [
    "best_accuracies_each_classes = {}\n",
    "lr = LogisticRegression()\n",
    "lr.fit(x_train, y_train)\n",
    "accuracy_lr_train = round(lr.score(x_train, y_train)*100,2) \n",
    "accuracy_lr_test = round(lr.score(x_test,y_test)*100,2)\n",
    "best_accuracies_each_classes[\"Logistic Regression\"] = lr.score(x_test,y_test)*100\n",
    "print(\"Training Accuracy: {}%\".format(accuracy_lr_train))\n",
    "print(\"Testing Accuracy: {}%\".format(accuracy_lr_test))"
   ]
  },
  {
   "cell_type": "code",
   "execution_count": 18,
   "id": "c3061787",
   "metadata": {},
   "outputs": [
    {
     "name": "stdout",
     "output_type": "stream",
     "text": [
      "Best Test KNN Score accuracy is: 65.88\n"
     ]
    },
    {
     "data": {
      "image/png": "[encoded data removed]",
      "text/plain": [
       "<Figure size 1080x360 with 1 Axes>"
      ]
     },
     "metadata": {
      "needs_background": "light"
     },
     "output_type": "display_data"
    }
   ],
   "source": [
    "score_list_test = []\n",
    "for i in range(1,21):\n",
    "    knn = KNeighborsClassifier(n_neighbors = i)\n",
    "    knn.fit(x_train,y_train)\n",
    "    score_list_test.append(knn.score(x_test,y_test))\n",
    "    \n",
    "best_accuracies_each_classes[\"KNN\"] = max(score_list_test)*100\n",
    "print(\"Best Test KNN Score accuracy is: {:.2f}\".format(max(score_list_test)*100))\n",
    "\n",
    "plt.figure(figsize=(15,5))\n",
    "plt.plot(range(1,21),score_list_test)\n",
    "plt.xlabel(\"K Values\")\n",
    "plt.ylabel(\"Accuracy\")\n",
    "plt.show()"
   ]
  },
  {
   "cell_type": "code",
   "execution_count": 19,
   "id": "f5a9ca98",
   "metadata": {},
   "outputs": [
    {
     "name": "stdout",
     "output_type": "stream",
     "text": [
      "Accuracy of SVM Algo: 69.41\n"
     ]
    }
   ],
   "source": [
    "svm = SVC(random_state = 1)\n",
    "svm.fit(x_train,y_train)\n",
    "\n",
    "best_accuracies_each_classes[\"SVM\"] = svm.score(x_test,y_test)*100\n",
    "print(\"Accuracy of SVM Algo: {:.2f}\".format(svm.score(x_test,y_test)*100))"
   ]
  },
  {
   "cell_type": "code",
   "execution_count": 20,
   "id": "ee67bfff",
   "metadata": {},
   "outputs": [
    {
     "name": "stdout",
     "output_type": "stream",
     "text": [
      "Accuracy of Naive Bayes: 76.47\n"
     ]
    }
   ],
   "source": [
    "nb = GaussianNB()\n",
    "nb.fit(x_train,y_train)\n",
    "\n",
    "best_accuracies_each_classes[\"Naive Bayes\"] = nb.score(x_test,y_test)*100\n",
    "print(\"Accuracy of Naive Bayes: {:.2f}\".format(nb.score(x_test,y_test)*100))"
   ]
  },
  {
   "cell_type": "code",
   "execution_count": 21,
   "id": "8d5f0656",
   "metadata": {},
   "outputs": [
    {
     "name": "stdout",
     "output_type": "stream",
     "text": [
      "Accuracy of Decision Tree: 88.24\n"
     ]
    }
   ],
   "source": [
    "dt = DecisionTreeClassifier()\n",
    "dt.fit(x_train,y_train)\n",
    "\n",
    "best_accuracies_each_classes[\"Decision Tree\"] = dt.score(x_test,y_test)*100\n",
    "print(\"Accuracy of Decision Tree: {:.2f}\".format(dt.score(x_test,y_test)*100))"
   ]
  },
  {
   "cell_type": "code",
   "execution_count": 22,
   "id": "2722933d",
   "metadata": {},
   "outputs": [
    {
     "name": "stdout",
     "output_type": "stream",
     "text": [
      "Accuracy of  Random Forest is: 76.47\n"
     ]
    }
   ],
   "source": [
    "rf = RandomForestClassifier(n_estimators = 500, random_state = 1)\n",
    "rf.fit(x_train,y_train)\n",
    "\n",
    "best_accuracies_each_classes[\"Random Forest\"] = rf.score(x_test,y_test)*100\n",
    "print(\"Accuracy of  Random Forest is: {:.2f}\".format(rf.score(x_test,y_test)*100))"
   ]
  },
  {
   "cell_type": "code",
   "execution_count": 23,
   "id": "8cf0b545",
   "metadata": {},
   "outputs": [
    {
     "data": {
      "image/png": "[encoded data removed]",
      "text/plain": [
       "<Figure size 576x360 with 1 Axes>"
      ]
     },
     "metadata": {
      "needs_background": "light"
     },
     "output_type": "display_data"
    }
   ],
   "source": [
    "plt.figure(figsize=(8,5))\n",
    "sns.barplot( y=list(best_accuracies_each_classes.keys()), x=list(best_accuracies_each_classes.values()))\n",
    "plt.xlabel(\"Accuracy\")\n",
    "plt.ylabel(\"Classification Methods\")\n",
    "plt.show()"
   ]
  },
  {
   "cell_type": "code",
   "execution_count": 24,
   "id": "5d21d25a",
   "metadata": {},
   "outputs": [
    {
     "data": {
      "image/png": "[encoded data removed]",
      "text/plain": [
       "<Figure size 1296x432 with 2 Axes>"
      ]
     },
     "metadata": {
      "needs_background": "light"
     },
     "output_type": "display_data"
    }
   ],
   "source": [
    "# I did not sort models ın an organized way so I filled by manually according to first graphic's sort.\n",
    "\n",
    "cv_results = pd.DataFrame({\"Cross Validation Means\":cv_result, \"ML Models\":[ \"KNeighborsClassifier\", \"SVM\",\"Decision Tree Classifier\",\n",
    "             \"Random Forest Classifier\",\"LogisticRegression\",\n",
    "            ]})\n",
    "\n",
    "plt.figure(figsize=(18,6))\n",
    "plt.suptitle(\"Comparing Models\",fontsize=24, color=\"red\")\n",
    "plt.subplots_adjust(wspace = 0.8, hspace= 0.4)\n",
    "\n",
    "plt.subplot(1,2,1)\n",
    "plt.title(\"With Parameter Grid\",fontsize=10,color=\"blue\")\n",
    "sns.barplot(\"Cross Validation Means\", \"ML Models\", data = cv_results)\n",
    "\n",
    "\n",
    "plt.subplot(1,2,2)\n",
    "plt.title(\"Without Parameter Grid\",fontsize=10,color=\"blue\")\n",
    "sns.barplot( y=['KNeighborsClassifier',\n",
    "                 'SVM',\n",
    "                 'Decision Tree Classifier',\n",
    "                 'Random Forest Classifier',\n",
    "                 'LogisticRegression',\n",
    "                'Naive Bayes'] , x=[99.02597402597402,87.01298701298701,  98.05194805194806,98.05194805194806,80.84415584415584, 71.1038961038961])\n",
    "plt.xlabel(\"Accuracy\")\n",
    "plt.ylabel(\"Classification Methods\")\n",
    "plt.show()"
   ]
  },
  {
   "cell_type": "code",
   "execution_count": 30,
   "id": "f43f78f4",
   "metadata": {},
   "outputs": [],
   "source": [
    "bt_df = pd.read_csv(\"./data/cleveland_final.csv\")\n",
    "\n",
    "x1 = bt_df[bt_df.columns.drop('num')]\n",
    "y1 = bt_df['num']\n",
    "\n",
    "xtrain1, xtest1, ytrain1, ytest1 = train_test_split(x1, y1, train_size=0.6, test_size=0.4)\n",
    "xtrain1, xcv1, ytrain1, ycv1 = train_test_split(xtrain1, ytrain1, train_size=0.75, test_size=0.25)\n"
   ]
  },
  {
   "cell_type": "code",
   "execution_count": 31,
   "id": "1ec8afa8",
   "metadata": {},
   "outputs": [
    {
     "name": "stdout",
     "output_type": "stream",
     "text": [
      "              precision    recall  f1-score   support\n",
      "\n",
      "           0       0.86      0.72      0.78        25\n",
      "           1       0.30      0.43      0.35         7\n",
      "           2       0.25      0.25      0.25         4\n",
      "           3       0.50      0.40      0.44         5\n",
      "           4       0.00      0.00      0.00         2\n",
      "\n",
      "    accuracy                           0.56        43\n",
      "   macro avg       0.38      0.36      0.37        43\n",
      "weighted avg       0.63      0.56      0.59        43\n",
      "\n"
     ]
    },
    {
     "data": {
      "text/plain": [
       "array([0.42307692, 0.44      , 0.6       , 0.48      , 0.44      ])"
      ]
     },
     "execution_count": 31,
     "metadata": {},
     "output_type": "execute_result"
    },
    {
     "data": {
      "image/png": "[encoded data removed]",
      "text/plain": [
       "<Figure size 432x288 with 2 Axes>"
      ]
     },
     "metadata": {
      "needs_background": "light"
     },
     "output_type": "display_data"
    }
   ],
   "source": [
    "# scikit learn library\n",
    "# Linear kernel\n",
    "from sklearn.svm import SVC\n",
    "from sklearn.metrics import confusion_matrix, classification_report\n",
    "from sklearn.model_selection import cross_val_score, GridSearchCV\n",
    "import seaborn as sns\n",
    "\n",
    "\n",
    "LsvmClassifier = SVC(kernel='linear', random_state=0)\n",
    "LsvmClassifier.fit(xtrain1, ytrain1)\n",
    "yprediction = LsvmClassifier.predict(xcv1)\n",
    "cm = confusion_matrix(ycv1, yprediction)\n",
    "sns.heatmap(cm, annot=True)\n",
    "print(classification_report(ycv1, yprediction))\n",
    "cross_val_score(LsvmClassifier, xtrain1, ytrain1, cv=5)"
   ]
  },
  {
   "cell_type": "code",
   "execution_count": 32,
   "id": "3358e3ce",
   "metadata": {},
   "outputs": [
    {
     "name": "stdout",
     "output_type": "stream",
     "text": [
      "              precision    recall  f1-score   support\n",
      "\n",
      "           0       0.58      1.00      0.74        25\n",
      "           1       0.00      0.00      0.00         7\n",
      "           2       0.00      0.00      0.00         4\n",
      "           3       0.00      0.00      0.00         5\n",
      "           4       0.00      0.00      0.00         2\n",
      "\n",
      "    accuracy                           0.58        43\n",
      "   macro avg       0.12      0.20      0.15        43\n",
      "weighted avg       0.34      0.58      0.43        43\n",
      "\n"
     ]
    },
    {
     "data": {
      "text/plain": [
       "array([0.53846154, 0.56      , 0.56      , 0.52      , 0.52      ])"
      ]
     },
     "execution_count": 32,
     "metadata": {},
     "output_type": "execute_result"
    },
    {
     "data": {
      "image/png": "[encoded data removed]",
      "text/plain": [
       "<Figure size 432x288 with 2 Axes>"
      ]
     },
     "metadata": {
      "needs_background": "light"
     },
     "output_type": "display_data"
    }
   ],
   "source": [
    "# scikit learn library\n",
    "# Polynomial kernel\n",
    "\n",
    "PsvmClassifier = SVC(kernel='poly', random_state=0)\n",
    "PsvmClassifier.fit(xtrain1, ytrain1)\n",
    "yprediction = PsvmClassifier.predict(xcv1)\n",
    "cm = confusion_matrix(ycv1, yprediction)\n",
    "sns.heatmap(cm, annot=True)\n",
    "print(classification_report(ycv1, yprediction))\n",
    "cross_val_score(PsvmClassifier, xtrain1, ytrain1, cv=5)"
   ]
  },
  {
   "cell_type": "code",
   "execution_count": 33,
   "id": "c2f844ca",
   "metadata": {},
   "outputs": [
    {
     "name": "stdout",
     "output_type": "stream",
     "text": [
      "              precision    recall  f1-score   support\n",
      "\n",
      "           0       0.58      1.00      0.74        25\n",
      "           1       0.00      0.00      0.00         7\n",
      "           2       0.00      0.00      0.00         4\n",
      "           3       0.00      0.00      0.00         5\n",
      "           4       0.00      0.00      0.00         2\n",
      "\n",
      "    accuracy                           0.58        43\n",
      "   macro avg       0.12      0.20      0.15        43\n",
      "weighted avg       0.34      0.58      0.43        43\n",
      "\n"
     ]
    },
    {
     "data": {
      "text/plain": [
       "array([0.53846154, 0.56      , 0.56      , 0.52      , 0.52      ])"
      ]
     },
     "execution_count": 33,
     "metadata": {},
     "output_type": "execute_result"
    },
    {
     "data": {
      "image/png": "[encoded data removed]",
      "text/plain": [
       "<Figure size 432x288 with 2 Axes>"
      ]
     },
     "metadata": {
      "needs_background": "light"
     },
     "output_type": "display_data"
    }
   ],
   "source": [
    "# scikit learn library\n",
    "# RBF kernel\n",
    "\n",
    "RsvmClassifier = SVC(kernel='rbf', random_state=0)\n",
    "RsvmClassifier.fit(xtrain1, ytrain1)\n",
    "yprediction = RsvmClassifier.predict(xcv1)\n",
    "cm = confusion_matrix(ycv1, yprediction)\n",
    "sns.heatmap(cm, annot=True)\n",
    "print(classification_report(ycv1, yprediction))\n",
    "cross_val_score(RsvmClassifier, xtrain1, ytrain1, cv=5)"
   ]
  },
  {
   "cell_type": "code",
   "execution_count": 34,
   "id": "78553a55",
   "metadata": {},
   "outputs": [
    {
     "name": "stdout",
     "output_type": "stream",
     "text": [
      "# Tuning hyper-parameters for precision\n",
      "Best parameters set found on development set:\n",
      "\n",
      "{'C': 1, 'kernel': 'linear'}\n",
      "\n",
      "Grid scores on development set:\n",
      "\n",
      "0.289 (+/-0.235) for {'C': 1, 'kernel': 'linear'}\n",
      "0.289 (+/-0.235) for {'C': 10, 'kernel': 'linear'}\n",
      "0.289 (+/-0.235) for {'C': 100, 'kernel': 'linear'}\n",
      "0.289 (+/-0.235) for {'C': 1000, 'kernel': 'linear'}\n",
      "0.270 (+/-0.142) for {'C': 1, 'gamma': 0.001, 'kernel': 'poly'}\n",
      "0.270 (+/-0.142) for {'C': 1, 'gamma': 0.0001, 'kernel': 'poly'}\n",
      "0.270 (+/-0.142) for {'C': 10, 'gamma': 0.001, 'kernel': 'poly'}\n",
      "0.270 (+/-0.142) for {'C': 10, 'gamma': 0.0001, 'kernel': 'poly'}\n",
      "0.270 (+/-0.142) for {'C': 100, 'gamma': 0.001, 'kernel': 'poly'}\n",
      "0.270 (+/-0.142) for {'C': 100, 'gamma': 0.0001, 'kernel': 'poly'}\n",
      "0.270 (+/-0.142) for {'C': 1000, 'gamma': 0.001, 'kernel': 'poly'}\n",
      "0.270 (+/-0.142) for {'C': 1000, 'gamma': 0.0001, 'kernel': 'poly'}\n",
      "0.108 (+/-0.007) for {'C': 1, 'gamma': 0.001, 'kernel': 'rbf'}\n",
      "0.109 (+/-0.008) for {'C': 1, 'gamma': 0.0001, 'kernel': 'rbf'}\n",
      "0.148 (+/-0.169) for {'C': 10, 'gamma': 0.001, 'kernel': 'rbf'}\n",
      "0.220 (+/-0.166) for {'C': 10, 'gamma': 0.0001, 'kernel': 'rbf'}\n",
      "0.148 (+/-0.169) for {'C': 100, 'gamma': 0.001, 'kernel': 'rbf'}\n",
      "0.216 (+/-0.168) for {'C': 100, 'gamma': 0.0001, 'kernel': 'rbf'}\n",
      "0.148 (+/-0.169) for {'C': 1000, 'gamma': 0.001, 'kernel': 'rbf'}\n",
      "0.216 (+/-0.168) for {'C': 1000, 'gamma': 0.0001, 'kernel': 'rbf'}\n",
      "\n",
      "Detailed classification report:\n",
      "\n",
      "The model is trained on the full development set.\n",
      "The scores are computed on the full evaluation set.\n",
      "\n",
      "              precision    recall  f1-score   support\n",
      "\n",
      "           0       0.75      0.77      0.76        64\n",
      "           1       0.33      0.39      0.36        18\n",
      "           2       0.33      0.29      0.31        14\n",
      "           3       0.67      0.31      0.42        13\n",
      "           4       0.11      0.25      0.15         4\n",
      "\n",
      "    accuracy                           0.58       113\n",
      "   macro avg       0.44      0.40      0.40       113\n",
      "weighted avg       0.60      0.58      0.58       113\n",
      "\n",
      "\n",
      "# Tuning hyper-parameters for recall\n",
      "Best parameters set found on development set:\n",
      "\n",
      "{'C': 1, 'kernel': 'linear'}\n",
      "\n",
      "Grid scores on development set:\n",
      "\n",
      "0.283 (+/-0.235) for {'C': 1, 'kernel': 'linear'}\n",
      "0.283 (+/-0.235) for {'C': 10, 'kernel': 'linear'}\n",
      "0.283 (+/-0.235) for {'C': 100, 'kernel': 'linear'}\n",
      "0.283 (+/-0.235) for {'C': 1000, 'kernel': 'linear'}\n",
      "0.250 (+/-0.086) for {'C': 1, 'gamma': 0.001, 'kernel': 'poly'}\n",
      "0.250 (+/-0.086) for {'C': 1, 'gamma': 0.0001, 'kernel': 'poly'}\n",
      "0.250 (+/-0.086) for {'C': 10, 'gamma': 0.001, 'kernel': 'poly'}\n",
      "0.250 (+/-0.086) for {'C': 10, 'gamma': 0.0001, 'kernel': 'poly'}\n",
      "0.250 (+/-0.086) for {'C': 100, 'gamma': 0.001, 'kernel': 'poly'}\n",
      "0.250 (+/-0.086) for {'C': 100, 'gamma': 0.0001, 'kernel': 'poly'}\n",
      "0.250 (+/-0.086) for {'C': 1000, 'gamma': 0.001, 'kernel': 'poly'}\n",
      "0.250 (+/-0.086) for {'C': 1000, 'gamma': 0.0001, 'kernel': 'poly'}\n",
      "0.200 (+/-0.000) for {'C': 1, 'gamma': 0.001, 'kernel': 'rbf'}\n",
      "0.197 (+/-0.011) for {'C': 1, 'gamma': 0.0001, 'kernel': 'rbf'}\n",
      "0.205 (+/-0.037) for {'C': 10, 'gamma': 0.001, 'kernel': 'rbf'}\n",
      "0.223 (+/-0.103) for {'C': 10, 'gamma': 0.0001, 'kernel': 'rbf'}\n",
      "0.205 (+/-0.037) for {'C': 100, 'gamma': 0.001, 'kernel': 'rbf'}\n",
      "0.214 (+/-0.103) for {'C': 100, 'gamma': 0.0001, 'kernel': 'rbf'}\n",
      "0.205 (+/-0.037) for {'C': 1000, 'gamma': 0.001, 'kernel': 'rbf'}\n",
      "0.214 (+/-0.103) for {'C': 1000, 'gamma': 0.0001, 'kernel': 'rbf'}\n",
      "\n",
      "Detailed classification report:\n",
      "\n",
      "The model is trained on the full development set.\n",
      "The scores are computed on the full evaluation set.\n",
      "\n",
      "              precision    recall  f1-score   support\n",
      "\n",
      "           0       0.75      0.77      0.76        64\n",
      "           1       0.33      0.39      0.36        18\n",
      "           2       0.33      0.29      0.31        14\n",
      "           3       0.67      0.31      0.42        13\n",
      "           4       0.11      0.25      0.15         4\n",
      "\n",
      "    accuracy                           0.58       113\n",
      "   macro avg       0.44      0.40      0.40       113\n",
      "weighted avg       0.60      0.58      0.58       113\n",
      "\n",
      "\n",
      "# Tuning hyper-parameters for f1\n",
      "Best parameters set found on development set:\n",
      "\n",
      "{'C': 1, 'kernel': 'linear'}\n",
      "\n",
      "Grid scores on development set:\n",
      "\n",
      "0.283 (+/-0.234) for {'C': 1, 'kernel': 'linear'}\n",
      "0.283 (+/-0.234) for {'C': 10, 'kernel': 'linear'}\n",
      "0.283 (+/-0.234) for {'C': 100, 'kernel': 'linear'}\n",
      "0.283 (+/-0.234) for {'C': 1000, 'kernel': 'linear'}\n",
      "0.246 (+/-0.086) for {'C': 1, 'gamma': 0.001, 'kernel': 'poly'}\n",
      "0.246 (+/-0.086) for {'C': 1, 'gamma': 0.0001, 'kernel': 'poly'}\n",
      "0.246 (+/-0.086) for {'C': 10, 'gamma': 0.001, 'kernel': 'poly'}\n",
      "0.246 (+/-0.086) for {'C': 10, 'gamma': 0.0001, 'kernel': 'poly'}\n",
      "0.246 (+/-0.086) for {'C': 100, 'gamma': 0.001, 'kernel': 'poly'}\n",
      "0.246 (+/-0.086) for {'C': 100, 'gamma': 0.0001, 'kernel': 'poly'}\n",
      "0.246 (+/-0.086) for {'C': 1000, 'gamma': 0.001, 'kernel': 'poly'}\n",
      "0.246 (+/-0.086) for {'C': 1000, 'gamma': 0.0001, 'kernel': 'poly'}\n",
      "0.140 (+/-0.006) for {'C': 1, 'gamma': 0.001, 'kernel': 'rbf'}\n",
      "0.140 (+/-0.006) for {'C': 1, 'gamma': 0.0001, 'kernel': 'rbf'}\n",
      "0.153 (+/-0.061) for {'C': 10, 'gamma': 0.001, 'kernel': 'rbf'}\n",
      "0.216 (+/-0.120) for {'C': 10, 'gamma': 0.0001, 'kernel': 'rbf'}\n",
      "0.153 (+/-0.061) for {'C': 100, 'gamma': 0.001, 'kernel': 'rbf'}\n",
      "0.209 (+/-0.120) for {'C': 100, 'gamma': 0.0001, 'kernel': 'rbf'}\n",
      "0.153 (+/-0.061) for {'C': 1000, 'gamma': 0.001, 'kernel': 'rbf'}\n",
      "0.209 (+/-0.120) for {'C': 1000, 'gamma': 0.0001, 'kernel': 'rbf'}\n",
      "\n",
      "Detailed classification report:\n",
      "\n",
      "The model is trained on the full development set.\n",
      "The scores are computed on the full evaluation set.\n",
      "\n",
      "              precision    recall  f1-score   support\n",
      "\n",
      "           0       0.75      0.77      0.76        64\n",
      "           1       0.33      0.39      0.36        18\n",
      "           2       0.33      0.29      0.31        14\n",
      "           3       0.67      0.31      0.42        13\n",
      "           4       0.11      0.25      0.15         4\n",
      "\n",
      "    accuracy                           0.58       113\n",
      "   macro avg       0.44      0.40      0.40       113\n",
      "weighted avg       0.60      0.58      0.58       113\n",
      "\n",
      "\n"
     ]
    }
   ],
   "source": [
    "# Implementing Grid Search Algorithm , 1000\n",
    "param_grid = [{'kernel': ['linear'], 'C': [1, 10, 100, 1000]}, \n",
    "              {'kernel': ['poly'], 'gamma': [0.001, 0.0001], 'C': [1, 10, 100, 1000]}, \n",
    "              {'kernel': ['rbf'], 'gamma': [0.001, 0.0001], 'C': [1, 10, 100, 1000]}]\n",
    "\n",
    "\n",
    "scores = ['precision', 'recall', 'f1']\n",
    "\n",
    "for score in scores:\n",
    "    print(\"# Tuning hyper-parameters for %s\" % score)\n",
    "    \n",
    "    clf = GridSearchCV(SVC(), param_grid, scoring='%s_macro' % score)\n",
    "\n",
    "    clf.fit(xtrain1, ytrain1)\n",
    "\n",
    "    print(\"Best parameters set found on development set:\")\n",
    "    print()\n",
    "    print(clf.best_params_)\n",
    "    print()\n",
    "    print(\"Grid scores on development set:\")\n",
    "    print()\n",
    "    means = clf.cv_results_['mean_test_score']\n",
    "    stds = clf.cv_results_['std_test_score']          \n",
    "    for mean, std, params in zip(means, stds, clf.cv_results_['params']):\n",
    "         print(\"%0.3f (+/-%0.03f) for %r\"% (mean, std * 2, params))\n",
    "    print()\n",
    "\n",
    "    print(\"Detailed classification report:\")\n",
    "    print()\n",
    "    print(\"The model is trained on the full development set.\")\n",
    "    print(\"The scores are computed on the full evaluation set.\")\n",
    "    print()\n",
    "    y_true, y_pred = ytest1, clf.predict(xtest1)\n",
    "    print(classification_report(y_true, y_pred))\n",
    "    print()"
   ]
  },
  {
   "cell_type": "code",
   "execution_count": null,
   "id": "a846ff51",
   "metadata": {},
   "outputs": [],
   "source": []
  }
 ],
 "metadata": {
  "kernelspec": {
   "display_name": "Python 3 (ipykernel)",
   "language": "python",
   "name": "python3"
  },
  "language_info": {
   "codemirror_mode": {
    "name": "ipython",
    "version": 3
   },
   "file_extension": ".py",
   "mimetype": "text/x-python",
   "name": "python",
   "nbconvert_exporter": "python",
   "pygments_lexer": "ipython3",
   "version": "3.8.10"
  }
 },
 "nbformat": 4,
 "nbformat_minor": 5
}
